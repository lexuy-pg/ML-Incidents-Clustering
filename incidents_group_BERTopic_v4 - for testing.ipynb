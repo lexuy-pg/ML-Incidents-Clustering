{
 "cells": [
  {
   "cell_type": "markdown",
   "metadata": {},
   "source": [
    "Welcome to Python world and Bertopic modeling for Master Data Incidents Analysis! Ensure you have set up your environment as instructions and if so, let's have fun!"
   ]
  },
  {
   "cell_type": "markdown",
   "metadata": {},
   "source": [
    "# 00. Install Packages\n"
   ]
  },
  {
   "cell_type": "code",
   "execution_count": 193,
   "metadata": {},
   "outputs": [],
   "source": [
    "#!pip install openpyxl\n",
    "# pandas need openpyxl (to read excel file, if your file is in excel)\n",
    "#!pip install pandas\n",
    "#!pip install sentence-transformers\n",
    "#!pip install bertopic\n",
    "#may take around 30 seconds. will output requirement already satisfied or installed successfully when finalized\n"
   ]
  },
  {
   "cell_type": "code",
   "execution_count": 194,
   "metadata": {},
   "outputs": [
    {
     "name": "stdout",
     "output_type": "stream",
     "text": [
      "Note: you may need to restart the kernel to use updated packages.Requirement already satisfied: openpyxl in c:\\users\\uy.lr\\appdata\\local\\programs\\python\\python312\\lib\\site-packages (3.1.3)\n",
      "Requirement already satisfied: et-xmlfile in c:\\users\\uy.lr\\appdata\\local\\programs\\python\\python312\\lib\\site-packages (from openpyxl) (1.1.0)\n",
      "\n"
     ]
    },
    {
     "name": "stderr",
     "output_type": "stream",
     "text": [
      "\n",
      "[notice] A new release of pip is available: 24.0 -> 24.1.2\n",
      "[notice] To update, run: python.exe -m pip install --upgrade pip\n"
     ]
    }
   ],
   "source": [
    "pip install openpyxl"
   ]
  },
  {
   "cell_type": "code",
   "execution_count": 195,
   "metadata": {},
   "outputs": [
    {
     "name": "stdout",
     "output_type": "stream",
     "text": [
      "Requirement already satisfied: pandas in c:\\users\\uy.lr\\appdata\\local\\programs\\python\\python312\\lib\\site-packages (2.2.2)Note: you may need to restart the kernel to use updated packages.\n",
      "\n",
      "Requirement already satisfied: numpy>=1.26.0 in c:\\users\\uy.lr\\appdata\\local\\programs\\python\\python312\\lib\\site-packages (from pandas) (1.26.4)\n",
      "Requirement already satisfied: python-dateutil>=2.8.2 in c:\\users\\uy.lr\\appdata\\roaming\\python\\python312\\site-packages (from pandas) (2.9.0.post0)\n",
      "Requirement already satisfied: pytz>=2020.1 in c:\\users\\uy.lr\\appdata\\local\\programs\\python\\python312\\lib\\site-packages (from pandas) (2024.1)\n",
      "Requirement already satisfied: tzdata>=2022.7 in c:\\users\\uy.lr\\appdata\\local\\programs\\python\\python312\\lib\\site-packages (from pandas) (2024.1)\n",
      "Requirement already satisfied: six>=1.5 in c:\\users\\uy.lr\\appdata\\roaming\\python\\python312\\site-packages (from python-dateutil>=2.8.2->pandas) (1.16.0)\n"
     ]
    },
    {
     "name": "stderr",
     "output_type": "stream",
     "text": [
      "\n",
      "[notice] A new release of pip is available: 24.0 -> 24.1.2\n",
      "[notice] To update, run: python.exe -m pip install --upgrade pip\n"
     ]
    }
   ],
   "source": [
    "pip install pandas"
   ]
  },
  {
   "cell_type": "code",
   "execution_count": 196,
   "metadata": {},
   "outputs": [
    {
     "name": "stdout",
     "output_type": "stream",
     "text": [
      "Requirement already satisfied: sentence-transformers in c:\\users\\uy.lr\\appdata\\local\\programs\\python\\python312\\lib\\site-packages (3.0.0)Note: you may need to restart the kernel to use updated packages.\n",
      "\n",
      "Requirement already satisfied: transformers<5.0.0,>=4.34.0 in c:\\users\\uy.lr\\appdata\\local\\programs\\python\\python312\\lib\\site-packages (from sentence-transformers) (4.41.2)\n",
      "Requirement already satisfied: tqdm in c:\\users\\uy.lr\\appdata\\local\\programs\\python\\python312\\lib\\site-packages (from sentence-transformers) (4.66.4)\n",
      "Requirement already satisfied: torch>=1.11.0 in c:\\users\\uy.lr\\appdata\\local\\programs\\python\\python312\\lib\\site-packages (from sentence-transformers) (2.3.0)\n",
      "Requirement already satisfied: numpy in c:\\users\\uy.lr\\appdata\\local\\programs\\python\\python312\\lib\\site-packages (from sentence-transformers) (1.26.4)\n",
      "Requirement already satisfied: scikit-learn in c:\\users\\uy.lr\\appdata\\local\\programs\\python\\python312\\lib\\site-packages (from sentence-transformers) (1.5.0)\n",
      "Requirement already satisfied: scipy in c:\\users\\uy.lr\\appdata\\local\\programs\\python\\python312\\lib\\site-packages (from sentence-transformers) (1.13.1)\n",
      "Requirement already satisfied: huggingface-hub>=0.15.1 in c:\\users\\uy.lr\\appdata\\local\\programs\\python\\python312\\lib\\site-packages (from sentence-transformers) (0.23.2)\n",
      "Requirement already satisfied: Pillow in c:\\users\\uy.lr\\appdata\\local\\programs\\python\\python312\\lib\\site-packages (from sentence-transformers) (10.3.0)\n",
      "Requirement already satisfied: filelock in c:\\users\\uy.lr\\appdata\\local\\programs\\python\\python312\\lib\\site-packages (from huggingface-hub>=0.15.1->sentence-transformers) (3.14.0)\n",
      "Requirement already satisfied: fsspec>=2023.5.0 in c:\\users\\uy.lr\\appdata\\local\\programs\\python\\python312\\lib\\site-packages (from huggingface-hub>=0.15.1->sentence-transformers) (2024.5.0)\n",
      "Requirement already satisfied: packaging>=20.9 in c:\\users\\uy.lr\\appdata\\roaming\\python\\python312\\site-packages (from huggingface-hub>=0.15.1->sentence-transformers) (24.0)\n",
      "Requirement already satisfied: pyyaml>=5.1 in c:\\users\\uy.lr\\appdata\\local\\programs\\python\\python312\\lib\\site-packages (from huggingface-hub>=0.15.1->sentence-transformers) (6.0.1)\n",
      "Requirement already satisfied: requests in c:\\users\\uy.lr\\appdata\\local\\programs\\python\\python312\\lib\\site-packages (from huggingface-hub>=0.15.1->sentence-transformers) (2.32.3)\n",
      "Requirement already satisfied: typing-extensions>=3.7.4.3 in c:\\users\\uy.lr\\appdata\\local\\programs\\python\\python312\\lib\\site-packages (from huggingface-hub>=0.15.1->sentence-transformers) (4.12.1)\n",
      "Requirement already satisfied: sympy in c:\\users\\uy.lr\\appdata\\local\\programs\\python\\python312\\lib\\site-packages (from torch>=1.11.0->sentence-transformers) (1.12.1)\n",
      "Requirement already satisfied: networkx in c:\\users\\uy.lr\\appdata\\local\\programs\\python\\python312\\lib\\site-packages (from torch>=1.11.0->sentence-transformers) (3.3)\n",
      "Requirement already satisfied: jinja2 in c:\\users\\uy.lr\\appdata\\local\\programs\\python\\python312\\lib\\site-packages (from torch>=1.11.0->sentence-transformers) (3.1.4)\n",
      "Requirement already satisfied: mkl<=2021.4.0,>=2021.1.1 in c:\\users\\uy.lr\\appdata\\local\\programs\\python\\python312\\lib\\site-packages (from torch>=1.11.0->sentence-transformers) (2021.4.0)\n",
      "Requirement already satisfied: colorama in c:\\users\\uy.lr\\appdata\\roaming\\python\\python312\\site-packages (from tqdm->sentence-transformers) (0.4.6)\n",
      "Requirement already satisfied: regex!=2019.12.17 in c:\\users\\uy.lr\\appdata\\local\\programs\\python\\python312\\lib\\site-packages (from transformers<5.0.0,>=4.34.0->sentence-transformers) (2024.5.15)\n",
      "Requirement already satisfied: tokenizers<0.20,>=0.19 in c:\\users\\uy.lr\\appdata\\local\\programs\\python\\python312\\lib\\site-packages (from transformers<5.0.0,>=4.34.0->sentence-transformers) (0.19.1)\n",
      "Requirement already satisfied: safetensors>=0.4.1 in c:\\users\\uy.lr\\appdata\\local\\programs\\python\\python312\\lib\\site-packages (from transformers<5.0.0,>=4.34.0->sentence-transformers) (0.4.3)\n",
      "Requirement already satisfied: joblib>=1.2.0 in c:\\users\\uy.lr\\appdata\\local\\programs\\python\\python312\\lib\\site-packages (from scikit-learn->sentence-transformers) (1.4.2)\n",
      "Requirement already satisfied: threadpoolctl>=3.1.0 in c:\\users\\uy.lr\\appdata\\local\\programs\\python\\python312\\lib\\site-packages (from scikit-learn->sentence-transformers) (3.5.0)\n",
      "Requirement already satisfied: intel-openmp==2021.* in c:\\users\\uy.lr\\appdata\\local\\programs\\python\\python312\\lib\\site-packages (from mkl<=2021.4.0,>=2021.1.1->torch>=1.11.0->sentence-transformers) (2021.4.0)\n",
      "Requirement already satisfied: tbb==2021.* in c:\\users\\uy.lr\\appdata\\local\\programs\\python\\python312\\lib\\site-packages (from mkl<=2021.4.0,>=2021.1.1->torch>=1.11.0->sentence-transformers) (2021.12.0)\n",
      "Requirement already satisfied: MarkupSafe>=2.0 in c:\\users\\uy.lr\\appdata\\local\\programs\\python\\python312\\lib\\site-packages (from jinja2->torch>=1.11.0->sentence-transformers) (2.1.5)\n",
      "Requirement already satisfied: charset-normalizer<4,>=2 in c:\\users\\uy.lr\\appdata\\local\\programs\\python\\python312\\lib\\site-packages (from requests->huggingface-hub>=0.15.1->sentence-transformers) (3.3.2)\n",
      "Requirement already satisfied: idna<4,>=2.5 in c:\\users\\uy.lr\\appdata\\local\\programs\\python\\python312\\lib\\site-packages (from requests->huggingface-hub>=0.15.1->sentence-transformers) (3.7)\n",
      "Requirement already satisfied: urllib3<3,>=1.21.1 in c:\\users\\uy.lr\\appdata\\local\\programs\\python\\python312\\lib\\site-packages (from requests->huggingface-hub>=0.15.1->sentence-transformers) (2.2.1)\n",
      "Requirement already satisfied: certifi>=2017.4.17 in c:\\users\\uy.lr\\appdata\\local\\programs\\python\\python312\\lib\\site-packages (from requests->huggingface-hub>=0.15.1->sentence-transformers) (2024.6.2)\n",
      "Requirement already satisfied: mpmath<1.4.0,>=1.1.0 in c:\\users\\uy.lr\\appdata\\local\\programs\\python\\python312\\lib\\site-packages (from sympy->torch>=1.11.0->sentence-transformers) (1.3.0)\n"
     ]
    },
    {
     "name": "stderr",
     "output_type": "stream",
     "text": [
      "\n",
      "[notice] A new release of pip is available: 24.0 -> 24.1.2\n",
      "[notice] To update, run: python.exe -m pip install --upgrade pip\n"
     ]
    }
   ],
   "source": [
    "pip install sentence-transformers"
   ]
  },
  {
   "cell_type": "code",
   "execution_count": 197,
   "metadata": {},
   "outputs": [
    {
     "name": "stdout",
     "output_type": "stream",
     "text": [
      "Requirement already satisfied: hdbscan in c:\\users\\uy.lr\\appdata\\local\\programs\\python\\python312\\lib\\site-packages (0.8.36)\n",
      "Requirement already satisfied: cython<3,>=0.27 in c:\\users\\uy.lr\\appdata\\local\\programs\\python\\python312\\lib\\site-packages (from hdbscan) (0.29.37)\n",
      "Requirement already satisfied: numpy>=1.20 in c:\\users\\uy.lr\\appdata\\local\\programs\\python\\python312\\lib\\site-packages (from hdbscan) (1.26.4)\n",
      "Requirement already satisfied: scipy>=1.0 in c:\\users\\uy.lr\\appdata\\local\\programs\\python\\python312\\lib\\site-packages (from hdbscan) (1.13.1)\n",
      "Requirement already satisfied: scikit-learn>=0.20 in c:\\users\\uy.lr\\appdata\\local\\programs\\python\\python312\\lib\\site-packages (from hdbscan) (1.5.0)\n",
      "Requirement already satisfied: joblib>=1.0 in c:\\users\\uy.lr\\appdata\\local\\programs\\python\\python312\\lib\\site-packages (from hdbscan) (1.4.2)\n",
      "Requirement already satisfied: threadpoolctl>=3.1.0 in c:\\users\\uy.lr\\appdata\\local\\programs\\python\\python312\\lib\\site-packages (from scikit-learn>=0.20->hdbscan) (3.5.0)\n",
      "Note: you may need to restart the kernel to use updated packages.\n"
     ]
    },
    {
     "name": "stderr",
     "output_type": "stream",
     "text": [
      "\n",
      "[notice] A new release of pip is available: 24.0 -> 24.1.2\n",
      "[notice] To update, run: python.exe -m pip install --upgrade pip\n"
     ]
    }
   ],
   "source": [
    "pip install hdbscan"
   ]
  },
  {
   "cell_type": "code",
   "execution_count": 198,
   "metadata": {},
   "outputs": [],
   "source": [
    "#pip cache purge"
   ]
  },
  {
   "cell_type": "code",
   "execution_count": 199,
   "metadata": {},
   "outputs": [
    {
     "name": "stdout",
     "output_type": "stream",
     "text": [
      "Requirement already satisfied: bertopic in c:\\users\\uy.lr\\appdata\\local\\programs\\python\\python312\\lib\\site-packages (0.16.2)\n",
      "Requirement already satisfied: numpy>=1.20.0 in c:\\users\\uy.lr\\appdata\\local\\programs\\python\\python312\\lib\\site-packages (from bertopic) (1.26.4)\n",
      "Requirement already satisfied: hdbscan>=0.8.29 in c:\\users\\uy.lr\\appdata\\local\\programs\\python\\python312\\lib\\site-packages (from bertopic) (0.8.36)\n",
      "Requirement already satisfied: umap-learn>=0.5.0 in c:\\users\\uy.lr\\appdata\\local\\programs\\python\\python312\\lib\\site-packages (from bertopic) (0.5.6)\n",
      "Requirement already satisfied: pandas>=1.1.5 in c:\\users\\uy.lr\\appdata\\local\\programs\\python\\python312\\lib\\site-packages (from bertopic) (2.2.2)\n",
      "Requirement already satisfied: scikit-learn>=0.22.2.post1 in c:\\users\\uy.lr\\appdata\\local\\programs\\python\\python312\\lib\\site-packages (from bertopic) (1.5.0)\n",
      "Requirement already satisfied: tqdm>=4.41.1 in c:\\users\\uy.lr\\appdata\\local\\programs\\python\\python312\\lib\\site-packages (from bertopic) (4.66.4)\n",
      "Requirement already satisfied: sentence-transformers>=0.4.1 in c:\\users\\uy.lr\\appdata\\local\\programs\\python\\python312\\lib\\site-packages (from bertopic) (3.0.0)\n",
      "Requirement already satisfied: plotly>=4.7.0 in c:\\users\\uy.lr\\appdata\\local\\programs\\python\\python312\\lib\\site-packages (from bertopic) (5.22.0)\n",
      "Requirement already satisfied: cython<3,>=0.27 in c:\\users\\uy.lr\\appdata\\local\\programs\\python\\python312\\lib\\site-packages (from hdbscan>=0.8.29->bertopic) (0.29.37)\n",
      "Requirement already satisfied: scipy>=1.0 in c:\\users\\uy.lr\\appdata\\local\\programs\\python\\python312\\lib\\site-packages (from hdbscan>=0.8.29->bertopic) (1.13.1)\n",
      "Requirement already satisfied: joblib>=1.0 in c:\\users\\uy.lr\\appdata\\local\\programs\\python\\python312\\lib\\site-packages (from hdbscan>=0.8.29->bertopic) (1.4.2)\n",
      "Requirement already satisfied: python-dateutil>=2.8.2 in c:\\users\\uy.lr\\appdata\\roaming\\python\\python312\\site-packages (from pandas>=1.1.5->bertopic) (2.9.0.post0)\n",
      "Requirement already satisfied: pytz>=2020.1 in c:\\users\\uy.lr\\appdata\\local\\programs\\python\\python312\\lib\\site-packages (from pandas>=1.1.5->bertopic) (2024.1)\n",
      "Requirement already satisfied: tzdata>=2022.7 in c:\\users\\uy.lr\\appdata\\local\\programs\\python\\python312\\lib\\site-packages (from pandas>=1.1.5->bertopic) (2024.1)\n",
      "Requirement already satisfied: tenacity>=6.2.0 in c:\\users\\uy.lr\\appdata\\local\\programs\\python\\python312\\lib\\site-packages (from plotly>=4.7.0->bertopic) (8.3.0)\n",
      "Requirement already satisfied: packaging in c:\\users\\uy.lr\\appdata\\roaming\\python\\python312\\site-packages (from plotly>=4.7.0->bertopic) (24.0)\n",
      "Requirement already satisfied: threadpoolctl>=3.1.0 in c:\\users\\uy.lr\\appdata\\local\\programs\\python\\python312\\lib\\site-packages (from scikit-learn>=0.22.2.post1->bertopic) (3.5.0)\n",
      "Requirement already satisfied: transformers<5.0.0,>=4.34.0 in c:\\users\\uy.lr\\appdata\\local\\programs\\python\\python312\\lib\\site-packages (from sentence-transformers>=0.4.1->bertopic) (4.41.2)\n",
      "Requirement already satisfied: torch>=1.11.0 in c:\\users\\uy.lr\\appdata\\local\\programs\\python\\python312\\lib\\site-packages (from sentence-transformers>=0.4.1->bertopic) (2.3.0)\n",
      "Requirement already satisfied: huggingface-hub>=0.15.1 in c:\\users\\uy.lr\\appdata\\local\\programs\\python\\python312\\lib\\site-packages (from sentence-transformers>=0.4.1->bertopic) (0.23.2)\n",
      "Requirement already satisfied: Pillow in c:\\users\\uy.lr\\appdata\\local\\programs\\python\\python312\\lib\\site-packages (from sentence-transformers>=0.4.1->bertopic) (10.3.0)\n",
      "Requirement already satisfied: colorama in c:\\users\\uy.lr\\appdata\\roaming\\python\\python312\\site-packages (from tqdm>=4.41.1->bertopic) (0.4.6)\n",
      "Requirement already satisfied: numba>=0.51.2 in c:\\users\\uy.lr\\appdata\\local\\programs\\python\\python312\\lib\\site-packages (from umap-learn>=0.5.0->bertopic) (0.59.1)\n",
      "Requirement already satisfied: pynndescent>=0.5 in c:\\users\\uy.lr\\appdata\\local\\programs\\python\\python312\\lib\\site-packages (from umap-learn>=0.5.0->bertopic) (0.5.12)\n",
      "Requirement already satisfied: filelock in c:\\users\\uy.lr\\appdata\\local\\programs\\python\\python312\\lib\\site-packages (from huggingface-hub>=0.15.1->sentence-transformers>=0.4.1->bertopic) (3.14.0)\n",
      "Requirement already satisfied: fsspec>=2023.5.0 in c:\\users\\uy.lr\\appdata\\local\\programs\\python\\python312\\lib\\site-packages (from huggingface-hub>=0.15.1->sentence-transformers>=0.4.1->bertopic) (2024.5.0)\n",
      "Requirement already satisfied: pyyaml>=5.1 in c:\\users\\uy.lr\\appdata\\local\\programs\\python\\python312\\lib\\site-packages (from huggingface-hub>=0.15.1->sentence-transformers>=0.4.1->bertopic) (6.0.1)\n",
      "Requirement already satisfied: requests in c:\\users\\uy.lr\\appdata\\local\\programs\\python\\python312\\lib\\site-packages (from huggingface-hub>=0.15.1->sentence-transformers>=0.4.1->bertopic) (2.32.3)\n",
      "Requirement already satisfied: typing-extensions>=3.7.4.3 in c:\\users\\uy.lr\\appdata\\local\\programs\\python\\python312\\lib\\site-packages (from huggingface-hub>=0.15.1->sentence-transformers>=0.4.1->bertopic) (4.12.1)\n",
      "Requirement already satisfied: llvmlite<0.43,>=0.42.0dev0 in c:\\users\\uy.lr\\appdata\\local\\programs\\python\\python312\\lib\\site-packages (from numba>=0.51.2->umap-learn>=0.5.0->bertopic) (0.42.0)\n",
      "Requirement already satisfied: six>=1.5 in c:\\users\\uy.lr\\appdata\\roaming\\python\\python312\\site-packages (from python-dateutil>=2.8.2->pandas>=1.1.5->bertopic) (1.16.0)\n",
      "Requirement already satisfied: sympy in c:\\users\\uy.lr\\appdata\\local\\programs\\python\\python312\\lib\\site-packages (from torch>=1.11.0->sentence-transformers>=0.4.1->bertopic) (1.12.1)\n",
      "Requirement already satisfied: networkx in c:\\users\\uy.lr\\appdata\\local\\programs\\python\\python312\\lib\\site-packages (from torch>=1.11.0->sentence-transformers>=0.4.1->bertopic) (3.3)\n",
      "Requirement already satisfied: jinja2 in c:\\users\\uy.lr\\appdata\\local\\programs\\python\\python312\\lib\\site-packages (from torch>=1.11.0->sentence-transformers>=0.4.1->bertopic) (3.1.4)\n",
      "Requirement already satisfied: mkl<=2021.4.0,>=2021.1.1 in c:\\users\\uy.lr\\appdata\\local\\programs\\python\\python312\\lib\\site-packages (from torch>=1.11.0->sentence-transformers>=0.4.1->bertopic) (2021.4.0)\n",
      "Requirement already satisfied: regex!=2019.12.17 in c:\\users\\uy.lr\\appdata\\local\\programs\\python\\python312\\lib\\site-packages (from transformers<5.0.0,>=4.34.0->sentence-transformers>=0.4.1->bertopic) (2024.5.15)\n",
      "Requirement already satisfied: tokenizers<0.20,>=0.19 in c:\\users\\uy.lr\\appdata\\local\\programs\\python\\python312\\lib\\site-packages (from transformers<5.0.0,>=4.34.0->sentence-transformers>=0.4.1->bertopic) (0.19.1)\n",
      "Requirement already satisfied: safetensors>=0.4.1 in c:\\users\\uy.lr\\appdata\\local\\programs\\python\\python312\\lib\\site-packages (from transformers<5.0.0,>=4.34.0->sentence-transformers>=0.4.1->bertopic) (0.4.3)\n",
      "Requirement already satisfied: intel-openmp==2021.* in c:\\users\\uy.lr\\appdata\\local\\programs\\python\\python312\\lib\\site-packages (from mkl<=2021.4.0,>=2021.1.1->torch>=1.11.0->sentence-transformers>=0.4.1->bertopic) (2021.4.0)\n",
      "Requirement already satisfied: tbb==2021.* in c:\\users\\uy.lr\\appdata\\local\\programs\\python\\python312\\lib\\site-packages (from mkl<=2021.4.0,>=2021.1.1->torch>=1.11.0->sentence-transformers>=0.4.1->bertopic) (2021.12.0)\n",
      "Requirement already satisfied: MarkupSafe>=2.0 in c:\\users\\uy.lr\\appdata\\local\\programs\\python\\python312\\lib\\site-packages (from jinja2->torch>=1.11.0->sentence-transformers>=0.4.1->bertopic) (2.1.5)\n",
      "Requirement already satisfied: charset-normalizer<4,>=2 in c:\\users\\uy.lr\\appdata\\local\\programs\\python\\python312\\lib\\site-packages (from requests->huggingface-hub>=0.15.1->sentence-transformers>=0.4.1->bertopic) (3.3.2)\n",
      "Requirement already satisfied: idna<4,>=2.5 in c:\\users\\uy.lr\\appdata\\local\\programs\\python\\python312\\lib\\site-packages (from requests->huggingface-hub>=0.15.1->sentence-transformers>=0.4.1->bertopic) (3.7)\n",
      "Requirement already satisfied: urllib3<3,>=1.21.1 in c:\\users\\uy.lr\\appdata\\local\\programs\\python\\python312\\lib\\site-packages (from requests->huggingface-hub>=0.15.1->sentence-transformers>=0.4.1->bertopic) (2.2.1)\n",
      "Requirement already satisfied: certifi>=2017.4.17 in c:\\users\\uy.lr\\appdata\\local\\programs\\python\\python312\\lib\\site-packages (from requests->huggingface-hub>=0.15.1->sentence-transformers>=0.4.1->bertopic) (2024.6.2)\n",
      "Requirement already satisfied: mpmath<1.4.0,>=1.1.0 in c:\\users\\uy.lr\\appdata\\local\\programs\\python\\python312\\lib\\site-packages (from sympy->torch>=1.11.0->sentence-transformers>=0.4.1->bertopic) (1.3.0)\n",
      "Note: you may need to restart the kernel to use updated packages.\n"
     ]
    },
    {
     "name": "stderr",
     "output_type": "stream",
     "text": [
      "\n",
      "[notice] A new release of pip is available: 24.0 -> 24.1.2\n",
      "[notice] To update, run: python.exe -m pip install --upgrade pip\n"
     ]
    }
   ],
   "source": [
    "pip install bertopic"
   ]
  },
  {
   "cell_type": "code",
   "execution_count": 200,
   "metadata": {},
   "outputs": [
    {
     "name": "stdout",
     "output_type": "stream",
     "text": [
      "Requirement already satisfied: transformers[torch] in c:\\users\\uy.lr\\appdata\\local\\programs\\python\\python312\\lib\\site-packages (4.41.2)Note: you may need to restart the kernel to use updated packages.\n",
      "\n",
      "Requirement already satisfied: filelock in c:\\users\\uy.lr\\appdata\\local\\programs\\python\\python312\\lib\\site-packages (from transformers[torch]) (3.14.0)\n",
      "Requirement already satisfied: huggingface-hub<1.0,>=0.23.0 in c:\\users\\uy.lr\\appdata\\local\\programs\\python\\python312\\lib\\site-packages (from transformers[torch]) (0.23.2)\n",
      "Requirement already satisfied: numpy>=1.17 in c:\\users\\uy.lr\\appdata\\local\\programs\\python\\python312\\lib\\site-packages (from transformers[torch]) (1.26.4)\n",
      "Requirement already satisfied: packaging>=20.0 in c:\\users\\uy.lr\\appdata\\roaming\\python\\python312\\site-packages (from transformers[torch]) (24.0)\n",
      "Requirement already satisfied: pyyaml>=5.1 in c:\\users\\uy.lr\\appdata\\local\\programs\\python\\python312\\lib\\site-packages (from transformers[torch]) (6.0.1)\n",
      "Requirement already satisfied: regex!=2019.12.17 in c:\\users\\uy.lr\\appdata\\local\\programs\\python\\python312\\lib\\site-packages (from transformers[torch]) (2024.5.15)\n",
      "Requirement already satisfied: requests in c:\\users\\uy.lr\\appdata\\local\\programs\\python\\python312\\lib\\site-packages (from transformers[torch]) (2.32.3)\n",
      "Requirement already satisfied: tokenizers<0.20,>=0.19 in c:\\users\\uy.lr\\appdata\\local\\programs\\python\\python312\\lib\\site-packages (from transformers[torch]) (0.19.1)\n",
      "Requirement already satisfied: safetensors>=0.4.1 in c:\\users\\uy.lr\\appdata\\local\\programs\\python\\python312\\lib\\site-packages (from transformers[torch]) (0.4.3)\n",
      "Requirement already satisfied: tqdm>=4.27 in c:\\users\\uy.lr\\appdata\\local\\programs\\python\\python312\\lib\\site-packages (from transformers[torch]) (4.66.4)\n",
      "Requirement already satisfied: torch in c:\\users\\uy.lr\\appdata\\local\\programs\\python\\python312\\lib\\site-packages (from transformers[torch]) (2.3.0)\n",
      "Requirement already satisfied: accelerate>=0.21.0 in c:\\users\\uy.lr\\appdata\\local\\programs\\python\\python312\\lib\\site-packages (from transformers[torch]) (0.32.0)\n",
      "Requirement already satisfied: psutil in c:\\users\\uy.lr\\appdata\\roaming\\python\\python312\\site-packages (from accelerate>=0.21.0->transformers[torch]) (5.9.8)\n",
      "Requirement already satisfied: fsspec>=2023.5.0 in c:\\users\\uy.lr\\appdata\\local\\programs\\python\\python312\\lib\\site-packages (from huggingface-hub<1.0,>=0.23.0->transformers[torch]) (2024.5.0)\n",
      "Requirement already satisfied: typing-extensions>=3.7.4.3 in c:\\users\\uy.lr\\appdata\\local\\programs\\python\\python312\\lib\\site-packages (from huggingface-hub<1.0,>=0.23.0->transformers[torch]) (4.12.1)\n",
      "Requirement already satisfied: sympy in c:\\users\\uy.lr\\appdata\\local\\programs\\python\\python312\\lib\\site-packages (from torch->transformers[torch]) (1.12.1)\n",
      "Requirement already satisfied: networkx in c:\\users\\uy.lr\\appdata\\local\\programs\\python\\python312\\lib\\site-packages (from torch->transformers[torch]) (3.3)\n",
      "Requirement already satisfied: jinja2 in c:\\users\\uy.lr\\appdata\\local\\programs\\python\\python312\\lib\\site-packages (from torch->transformers[torch]) (3.1.4)\n",
      "Requirement already satisfied: mkl<=2021.4.0,>=2021.1.1 in c:\\users\\uy.lr\\appdata\\local\\programs\\python\\python312\\lib\\site-packages (from torch->transformers[torch]) (2021.4.0)\n",
      "Requirement already satisfied: colorama in c:\\users\\uy.lr\\appdata\\roaming\\python\\python312\\site-packages (from tqdm>=4.27->transformers[torch]) (0.4.6)\n",
      "Requirement already satisfied: charset-normalizer<4,>=2 in c:\\users\\uy.lr\\appdata\\local\\programs\\python\\python312\\lib\\site-packages (from requests->transformers[torch]) (3.3.2)\n",
      "Requirement already satisfied: idna<4,>=2.5 in c:\\users\\uy.lr\\appdata\\local\\programs\\python\\python312\\lib\\site-packages (from requests->transformers[torch]) (3.7)\n",
      "Requirement already satisfied: urllib3<3,>=1.21.1 in c:\\users\\uy.lr\\appdata\\local\\programs\\python\\python312\\lib\\site-packages (from requests->transformers[torch]) (2.2.1)\n",
      "Requirement already satisfied: certifi>=2017.4.17 in c:\\users\\uy.lr\\appdata\\local\\programs\\python\\python312\\lib\\site-packages (from requests->transformers[torch]) (2024.6.2)\n",
      "Requirement already satisfied: intel-openmp==2021.* in c:\\users\\uy.lr\\appdata\\local\\programs\\python\\python312\\lib\\site-packages (from mkl<=2021.4.0,>=2021.1.1->torch->transformers[torch]) (2021.4.0)\n",
      "Requirement already satisfied: tbb==2021.* in c:\\users\\uy.lr\\appdata\\local\\programs\\python\\python312\\lib\\site-packages (from mkl<=2021.4.0,>=2021.1.1->torch->transformers[torch]) (2021.12.0)\n",
      "Requirement already satisfied: MarkupSafe>=2.0 in c:\\users\\uy.lr\\appdata\\local\\programs\\python\\python312\\lib\\site-packages (from jinja2->torch->transformers[torch]) (2.1.5)\n",
      "Requirement already satisfied: mpmath<1.4.0,>=1.1.0 in c:\\users\\uy.lr\\appdata\\local\\programs\\python\\python312\\lib\\site-packages (from sympy->torch->transformers[torch]) (1.3.0)\n"
     ]
    },
    {
     "name": "stderr",
     "output_type": "stream",
     "text": [
      "\n",
      "[notice] A new release of pip is available: 24.0 -> 24.1.2\n",
      "[notice] To update, run: python.exe -m pip install --upgrade pip\n"
     ]
    }
   ],
   "source": [
    "pip install transformers[torch]"
   ]
  },
  {
   "cell_type": "code",
   "execution_count": 1,
   "metadata": {},
   "outputs": [
    {
     "name": "stderr",
     "output_type": "stream",
     "text": [
      "c:\\Users\\uy.lr\\AppData\\Local\\Programs\\Python\\Python312\\Lib\\site-packages\\sentence_transformers\\cross_encoder\\CrossEncoder.py:11: TqdmWarning: IProgress not found. Please update jupyter and ipywidgets. See https://ipywidgets.readthedocs.io/en/stable/user_install.html\n",
      "  from tqdm.autonotebook import tqdm, trange\n"
     ]
    }
   ],
   "source": [
    "import pandas as pd\n",
    "import os\n",
    "import numpy as np\n",
    "from sentence_transformers import SentenceTransformer\n",
    "from bertopic import BERTopic\n",
    "from umap import UMAP\n",
    "from sklearn.cluster import KMeans\n",
    "#from sklearn import svc\n",
    "from hdbscan import HDBSCAN\n",
    "from sklearn.feature_extraction.text import CountVectorizer\n",
    "from torch import bfloat16\n"
   ]
  },
  {
   "cell_type": "markdown",
   "metadata": {},
   "source": [
    "# 0. Starting with no label"
   ]
  },
  {
   "cell_type": "markdown",
   "metadata": {},
   "source": [
    "At the very first beginning we use a pure BERTopic model to have the first clustering without any guidence by labelling it with PRM Analysis. With the result of this version clustering, we generated PRM Analysis with review comments for better capability of fine tuning the model. I leave the codes here just in case you might wonder how we start initially.  \n",
    "Can skip and jump to the second section"
   ]
  },
  {
   "cell_type": "markdown",
   "metadata": {},
   "source": [
    "## 01. Data Preparation.\n",
    "Go to ServiceNow to export your data in csv preferred, conditional filters of previously used data has been displayed in user guide."
   ]
  },
  {
   "cell_type": "code",
   "execution_count": 2,
   "metadata": {},
   "outputs": [],
   "source": [
    "file_path = 'incident_230630_240111.csv' #replace the file with your data file in csv - assumes same place as the python notebook\n",
    "# please leave no blank in the title of the file, it will raise bug.\n",
    "# the most convinent way is leave this ipynb with the files in the same location, so that you don't need relocate the file path to other places.\n",
    "#always prefer csv rather than excel (excel needs closed when read the file)\n",
    "data = pd.read_csv(file_path, encoding='latin1').apply(lambda x: x.astype(str)) \n",
    "\n",
    "# housekeeping: renames data columns into desired column names\n",
    "data = data.rename(columns={'problem_id.u_component': 'problem_component'})\n",
    "data = data.rename(columns={'inc_short_description': 'short_description'}) # 5/15: added from Alvin's extract"
   ]
  },
  {
   "cell_type": "code",
   "execution_count": 3,
   "metadata": {},
   "outputs": [
    {
     "data": {
      "text/plain": [
       "Index(['number', 'u_component', 'problem_id', 'short_description', 'priority',\n",
       "       'active', 'opened_at', 'location', 'contact_type', 'state', 'closed_at',\n",
       "       'u_causing_it_layer', 'u_symptom_type', 'u_preliminary_cause',\n",
       "       'u_resolution_code', 'u_moss_closure_code', 'category', 'cmdb_ci',\n",
       "       'u_impacted_business_process', 'u_pg_inc_cause_by_chg'],\n",
       "      dtype='object')"
      ]
     },
     "execution_count": 3,
     "metadata": {},
     "output_type": "execute_result"
    }
   ],
   "source": [
    "data #have a look of your data frame\n",
    "#data.head() #this line gives you first 5 rows of the data frame, remove the first # in this line if you want to run it\n",
    "data.columns"
   ]
  },
  {
   "cell_type": "code",
   "execution_count": 4,
   "metadata": {},
   "outputs": [],
   "source": [
    "description = data['short_description'].tolist() #input to model should be a list"
   ]
  },
  {
   "cell_type": "code",
   "execution_count": 205,
   "metadata": {},
   "outputs": [],
   "source": [
    "# len(embeddings) # to check how long is the embedded vector (should be the same as row amount)"
   ]
  },
  {
   "cell_type": "code",
   "execution_count": 5,
   "metadata": {},
   "outputs": [],
   "source": [
    "vectorizer_model = CountVectorizer(stop_words=\"english\", ngram_range=(2,3)) # use bigram and trigram, which is combination of 2 or 3 words as the key words\n",
    "umap_model = UMAP(n_neighbors=15, n_components=5, min_dist=0.0, metric='cosine')\n",
    "cluster_model = KMeans(n_clusters=20) #use kmeans rather than hdbscan\n",
    "     "
   ]
  },
  {
   "cell_type": "code",
   "execution_count": 6,
   "metadata": {},
   "outputs": [],
   "source": [
    "from sentence_transformers import SentenceTransformer\n",
    " \n",
    "model = SentenceTransformer(\"BAAI/bge-small-en-v1.5\")"
   ]
  },
  {
   "cell_type": "code",
   "execution_count": 7,
   "metadata": {},
   "outputs": [],
   "source": [
    "# DEFINING THE MODEL\n",
    "\n",
    "topic_model = BERTopic(min_topic_size=2, language=\"english\", calculate_probabilities=True,\n",
    "                       embedding_model=\"BAAI/bge-small-en-v1.5\",\n",
    "                       umap_model=umap_model,\n",
    "                       hdbscan_model=cluster_model,\n",
    "                       vectorizer_model=vectorizer_model,\n",
    "                        top_n_words=5,\n",
    "                        verbose=True)"
   ]
  },
  {
   "cell_type": "code",
   "execution_count": 8,
   "metadata": {},
   "outputs": [
    {
     "data": {
      "text/plain": [
       "<Response [200]>"
      ]
     },
     "execution_count": 8,
     "metadata": {},
     "output_type": "execute_result"
    }
   ],
   "source": [
    "import requests\n",
    "requests.get('https://www.huggingface.co')"
   ]
  },
  {
   "cell_type": "code",
   "execution_count": 9,
   "metadata": {},
   "outputs": [
    {
     "name": "stderr",
     "output_type": "stream",
     "text": [
      "2024-07-23 09:11:31,799 - BERTopic - Embedding - Transforming documents to embeddings.\n",
      "Batches: 100%|██████████| 13/13 [00:04<00:00,  2.74it/s]\n",
      "2024-07-23 09:11:39,922 - BERTopic - Embedding - Completed ✓\n",
      "2024-07-23 09:11:39,922 - BERTopic - Dimensionality - Fitting the dimensionality reduction algorithm\n",
      "2024-07-23 09:11:45,527 - BERTopic - Dimensionality - Completed ✓\n",
      "2024-07-23 09:11:45,527 - BERTopic - Cluster - Start clustering the reduced embeddings\n",
      "2024-07-23 09:11:46,237 - BERTopic - Cluster - Completed ✓\n",
      "2024-07-23 09:11:46,237 - BERTopic - Representation - Extracting topics from clusters using representation models.\n",
      "2024-07-23 09:11:46,290 - BERTopic - Representation - Completed ✓\n"
     ]
    }
   ],
   "source": [
    "# Train model\n",
    "topics = topic_model.fit_transform(description)\n"
   ]
  },
  {
   "cell_type": "code",
   "execution_count": 10,
   "metadata": {},
   "outputs": [
    {
     "data": {
      "text/html": [
       "<div>\n",
       "<style scoped>\n",
       "    .dataframe tbody tr th:only-of-type {\n",
       "        vertical-align: middle;\n",
       "    }\n",
       "\n",
       "    .dataframe tbody tr th {\n",
       "        vertical-align: top;\n",
       "    }\n",
       "\n",
       "    .dataframe thead th {\n",
       "        text-align: right;\n",
       "    }\n",
       "</style>\n",
       "<table border=\"1\" class=\"dataframe\">\n",
       "  <thead>\n",
       "    <tr style=\"text-align: right;\">\n",
       "      <th></th>\n",
       "      <th>Topic</th>\n",
       "      <th>Count</th>\n",
       "      <th>Name</th>\n",
       "      <th>Representation</th>\n",
       "      <th>Representative_Docs</th>\n",
       "    </tr>\n",
       "  </thead>\n",
       "  <tbody>\n",
       "    <tr>\n",
       "      <th>0</th>\n",
       "      <td>0</td>\n",
       "      <td>34</td>\n",
       "      <td>0_cancelled shipment_san martin_san martin obi...</td>\n",
       "      <td>[cancelled shipment, san martin, san martin ob...</td>\n",
       "      <td>[[WMS] [PrIME-LA] [MDCLX7] [San Martin Obispo]...</td>\n",
       "    </tr>\n",
       "    <tr>\n",
       "      <th>1</th>\n",
       "      <td>1</td>\n",
       "      <td>30</td>\n",
       "      <td>1_wms prime_sap wms prime_sap wms_work order</td>\n",
       "      <td>[wms prime, sap wms prime, sap wms, work order...</td>\n",
       "      <td>[[WMS] [PrIME-AMA-W] [HYDLX5/6] [Hyderabad]   ...</td>\n",
       "    </tr>\n",
       "    <tr>\n",
       "      <th>2</th>\n",
       "      <td>2</td>\n",
       "      <td>30</td>\n",
       "      <td>2_master receipt_martin obispo_san martin_san ...</td>\n",
       "      <td>[master receipt, martin obispo, san martin, sa...</td>\n",
       "      <td>[[WMS] [PrIME-NA] [DALLG5] [Dallas DLMC] DLMC ...</td>\n",
       "    </tr>\n",
       "    <tr>\n",
       "      <th>3</th>\n",
       "      <td>3</td>\n",
       "      <td>27</td>\n",
       "      <td>3_carrier id_obispo carrier_martin obispo carr...</td>\n",
       "      <td>[carrier id, obispo carrier, martin obispo car...</td>\n",
       "      <td>[[WMS] [PrIME-LA] [MDCLX7] [San Martin Obispo]...</td>\n",
       "    </tr>\n",
       "    <tr>\n",
       "      <th>4</th>\n",
       "      <td>4</td>\n",
       "      <td>24</td>\n",
       "      <td>4_mobile id_unassigned quantity cancelled_unas...</td>\n",
       "      <td>[mobile id, unassigned quantity cancelled, una...</td>\n",
       "      <td>[[WMS] [PrIME-GC] [HPLX5/6] [Huangpu] Shipment...</td>\n",
       "    </tr>\n",
       "    <tr>\n",
       "      <th>5</th>\n",
       "      <td>5</td>\n",
       "      <td>23</td>\n",
       "      <td>5_cycle count_wms prime ama_prime ama_wms prime</td>\n",
       "      <td>[cycle count, wms prime ama, prime ama, wms pr...</td>\n",
       "      <td>[[WMS] [PrIME-AMA-E] [BNCLX6] [Ben Cat] Site u...</td>\n",
       "    </tr>\n",
       "    <tr>\n",
       "      <th>6</th>\n",
       "      <td>6</td>\n",
       "      <td>22</td>\n",
       "      <td>6_lvlx5 louveira_la lvlx5 louveira_la lvlx5_pr...</td>\n",
       "      <td>[lvlx5 louveira, la lvlx5 louveira, la lvlx5, ...</td>\n",
       "      <td>[[WMS] [PrIME-GC] [LULX6] [Luogang] Shipment I...</td>\n",
       "    </tr>\n",
       "    <tr>\n",
       "      <th>7</th>\n",
       "      <td>7</td>\n",
       "      <td>22</td>\n",
       "      <td>7_line ship qty_ship qty_line ship_error line ...</td>\n",
       "      <td>[line ship qty, ship qty, line ship, error lin...</td>\n",
       "      <td>[[WMS] [PrIME-GC] [HPLX5/6] [Huangpu] Shipment...</td>\n",
       "    </tr>\n",
       "    <tr>\n",
       "      <th>8</th>\n",
       "      <td>8</td>\n",
       "      <td>21</td>\n",
       "      <td>8_unallocated quantity wms_unallocated quantit...</td>\n",
       "      <td>[unallocated quantity wms, unallocated quantit...</td>\n",
       "      <td>[[WMS] [PrIME-LA] [MDCLX8] [San Martin Obispo]...</td>\n",
       "    </tr>\n",
       "    <tr>\n",
       "      <th>9</th>\n",
       "      <td>9</td>\n",
       "      <td>21</td>\n",
       "      <td>9_valley wcmc_na mvlg5_prime na mvlg5_na mvlg5...</td>\n",
       "      <td>[valley wcmc, na mvlg5, prime na mvlg5, na mvl...</td>\n",
       "      <td>[[WMS] [PrIME-NA] [MVLG5] [Moreno Valley WCMC]...</td>\n",
       "    </tr>\n",
       "    <tr>\n",
       "      <th>10</th>\n",
       "      <td>10</td>\n",
       "      <td>19</td>\n",
       "      <td>10_huangpu huangpu_huangpu huangpu shipment_hp...</td>\n",
       "      <td>[huangpu huangpu, huangpu huangpu shipment, hp...</td>\n",
       "      <td>[[WMS] [PrIME-GC] [HPLX5/6] [Huangpu]  [Huangp...</td>\n",
       "    </tr>\n",
       "    <tr>\n",
       "      <th>11</th>\n",
       "      <td>11</td>\n",
       "      <td>19</td>\n",
       "      <td>11_medellin negative_medellin negative quantit...</td>\n",
       "      <td>[medellin negative, medellin negative quantity...</td>\n",
       "      <td>[[WMS] [PrIME-LA] [MEDLX6] [Medellin] Negative...</td>\n",
       "    </tr>\n",
       "    <tr>\n",
       "      <th>12</th>\n",
       "      <td>12</td>\n",
       "      <td>18</td>\n",
       "      <td>12_wms prime eu_prime eu_prime eu amplg5_eu am...</td>\n",
       "      <td>[wms prime eu, prime eu, prime eu amplg5, eu a...</td>\n",
       "      <td>[[WMS] [PrIME-EU] [AMPLG5] [Kheops] Picked Qua...</td>\n",
       "    </tr>\n",
       "    <tr>\n",
       "      <th>13</th>\n",
       "      <td>13</td>\n",
       "      <td>17</td>\n",
       "      <td>13_obispo cancelled cs_cancelled cs issue_cs i...</td>\n",
       "      <td>[obispo cancelled cs, cancelled cs issue, cs i...</td>\n",
       "      <td>[[WMS] [PrIME-LA] [MDCLX8] [San Martin Obispo]...</td>\n",
       "    </tr>\n",
       "    <tr>\n",
       "      <th>14</th>\n",
       "      <td>14</td>\n",
       "      <td>16</td>\n",
       "      <td>14_picked quantity_rionegro cancel_lodnum wms ...</td>\n",
       "      <td>[picked quantity, rionegro cancel, lodnum wms ...</td>\n",
       "      <td>[[WMS] [PrIME-GC] [HPLX5] [Huangpu] Shipment h...</td>\n",
       "    </tr>\n",
       "    <tr>\n",
       "      <th>15</th>\n",
       "      <td>15</td>\n",
       "      <td>16</td>\n",
       "      <td>15_prime na gcfclg5_na gcfclg5_na gcfclg5 grea...</td>\n",
       "      <td>[prime na gcfclg5, na gcfclg5, na gcfclg5 grea...</td>\n",
       "      <td>[[WMS] [PrIME-NA] [GCFCLG5] [Greater Chicago]C...</td>\n",
       "    </tr>\n",
       "    <tr>\n",
       "      <th>16</th>\n",
       "      <td>16</td>\n",
       "      <td>14</td>\n",
       "      <td>16_shippensburg nemc_prime na shlg5_shlg5 ship...</td>\n",
       "      <td>[shippensburg nemc, prime na shlg5, shlg5 ship...</td>\n",
       "      <td>[[WMS] [PrIME-NA] [SHLG5] [Shippensburg NEMC] ...</td>\n",
       "    </tr>\n",
       "    <tr>\n",
       "      <th>17</th>\n",
       "      <td>17</td>\n",
       "      <td>12</td>\n",
       "      <td>17_cdlx6 cabuyao_ama cdlx6_ama cdlx6 cabuyao_p...</td>\n",
       "      <td>[cdlx6 cabuyao, ama cdlx6, ama cdlx6 cabuyao, ...</td>\n",
       "      <td>[[WMS] [PrIME-AMA-E] [CDLX6] [Cabuyao] Cancell...</td>\n",
       "    </tr>\n",
       "    <tr>\n",
       "      <th>18</th>\n",
       "      <td>18</td>\n",
       "      <td>11</td>\n",
       "      <td>18_recall reports_ira counting display_order c...</td>\n",
       "      <td>[recall reports, ira counting display, order c...</td>\n",
       "      <td>[[WMS] [PrIME-GC] [XQLX7] [Xiqing] Order conte...</td>\n",
       "    </tr>\n",
       "    <tr>\n",
       "      <th>19</th>\n",
       "      <td>19</td>\n",
       "      <td>5</td>\n",
       "      <td>19_la lvlx5 louveira_la lvlx5_lvlx5 louveira_p...</td>\n",
       "      <td>[la lvlx5 louveira, la lvlx5, lvlx5 louveira, ...</td>\n",
       "      <td>[[WMS] [PrIME-LA] [LVLX5] [Louveira] Error in ...</td>\n",
       "    </tr>\n",
       "  </tbody>\n",
       "</table>\n",
       "</div>"
      ],
      "text/plain": [
       "    Topic  Count                                               Name  \\\n",
       "0       0     34  0_cancelled shipment_san martin_san martin obi...   \n",
       "1       1     30       1_wms prime_sap wms prime_sap wms_work order   \n",
       "2       2     30  2_master receipt_martin obispo_san martin_san ...   \n",
       "3       3     27  3_carrier id_obispo carrier_martin obispo carr...   \n",
       "4       4     24  4_mobile id_unassigned quantity cancelled_unas...   \n",
       "5       5     23    5_cycle count_wms prime ama_prime ama_wms prime   \n",
       "6       6     22  6_lvlx5 louveira_la lvlx5 louveira_la lvlx5_pr...   \n",
       "7       7     22  7_line ship qty_ship qty_line ship_error line ...   \n",
       "8       8     21  8_unallocated quantity wms_unallocated quantit...   \n",
       "9       9     21  9_valley wcmc_na mvlg5_prime na mvlg5_na mvlg5...   \n",
       "10     10     19  10_huangpu huangpu_huangpu huangpu shipment_hp...   \n",
       "11     11     19  11_medellin negative_medellin negative quantit...   \n",
       "12     12     18  12_wms prime eu_prime eu_prime eu amplg5_eu am...   \n",
       "13     13     17  13_obispo cancelled cs_cancelled cs issue_cs i...   \n",
       "14     14     16  14_picked quantity_rionegro cancel_lodnum wms ...   \n",
       "15     15     16  15_prime na gcfclg5_na gcfclg5_na gcfclg5 grea...   \n",
       "16     16     14  16_shippensburg nemc_prime na shlg5_shlg5 ship...   \n",
       "17     17     12  17_cdlx6 cabuyao_ama cdlx6_ama cdlx6 cabuyao_p...   \n",
       "18     18     11  18_recall reports_ira counting display_order c...   \n",
       "19     19      5  19_la lvlx5 louveira_la lvlx5_lvlx5 louveira_p...   \n",
       "\n",
       "                                       Representation  \\\n",
       "0   [cancelled shipment, san martin, san martin ob...   \n",
       "1   [wms prime, sap wms prime, sap wms, work order...   \n",
       "2   [master receipt, martin obispo, san martin, sa...   \n",
       "3   [carrier id, obispo carrier, martin obispo car...   \n",
       "4   [mobile id, unassigned quantity cancelled, una...   \n",
       "5   [cycle count, wms prime ama, prime ama, wms pr...   \n",
       "6   [lvlx5 louveira, la lvlx5 louveira, la lvlx5, ...   \n",
       "7   [line ship qty, ship qty, line ship, error lin...   \n",
       "8   [unallocated quantity wms, unallocated quantit...   \n",
       "9   [valley wcmc, na mvlg5, prime na mvlg5, na mvl...   \n",
       "10  [huangpu huangpu, huangpu huangpu shipment, hp...   \n",
       "11  [medellin negative, medellin negative quantity...   \n",
       "12  [wms prime eu, prime eu, prime eu amplg5, eu a...   \n",
       "13  [obispo cancelled cs, cancelled cs issue, cs i...   \n",
       "14  [picked quantity, rionegro cancel, lodnum wms ...   \n",
       "15  [prime na gcfclg5, na gcfclg5, na gcfclg5 grea...   \n",
       "16  [shippensburg nemc, prime na shlg5, shlg5 ship...   \n",
       "17  [cdlx6 cabuyao, ama cdlx6, ama cdlx6 cabuyao, ...   \n",
       "18  [recall reports, ira counting display, order c...   \n",
       "19  [la lvlx5 louveira, la lvlx5, lvlx5 louveira, ...   \n",
       "\n",
       "                                  Representative_Docs  \n",
       "0   [[WMS] [PrIME-LA] [MDCLX7] [San Martin Obispo]...  \n",
       "1   [[WMS] [PrIME-AMA-W] [HYDLX5/6] [Hyderabad]   ...  \n",
       "2   [[WMS] [PrIME-NA] [DALLG5] [Dallas DLMC] DLMC ...  \n",
       "3   [[WMS] [PrIME-LA] [MDCLX7] [San Martin Obispo]...  \n",
       "4   [[WMS] [PrIME-GC] [HPLX5/6] [Huangpu] Shipment...  \n",
       "5   [[WMS] [PrIME-AMA-E] [BNCLX6] [Ben Cat] Site u...  \n",
       "6   [[WMS] [PrIME-GC] [LULX6] [Luogang] Shipment I...  \n",
       "7   [[WMS] [PrIME-GC] [HPLX5/6] [Huangpu] Shipment...  \n",
       "8   [[WMS] [PrIME-LA] [MDCLX8] [San Martin Obispo]...  \n",
       "9   [[WMS] [PrIME-NA] [MVLG5] [Moreno Valley WCMC]...  \n",
       "10  [[WMS] [PrIME-GC] [HPLX5/6] [Huangpu]  [Huangp...  \n",
       "11  [[WMS] [PrIME-LA] [MEDLX6] [Medellin] Negative...  \n",
       "12  [[WMS] [PrIME-EU] [AMPLG5] [Kheops] Picked Qua...  \n",
       "13  [[WMS] [PrIME-LA] [MDCLX8] [San Martin Obispo]...  \n",
       "14  [[WMS] [PrIME-GC] [HPLX5] [Huangpu] Shipment h...  \n",
       "15  [[WMS] [PrIME-NA] [GCFCLG5] [Greater Chicago]C...  \n",
       "16  [[WMS] [PrIME-NA] [SHLG5] [Shippensburg NEMC] ...  \n",
       "17  [[WMS] [PrIME-AMA-E] [CDLX6] [Cabuyao] Cancell...  \n",
       "18  [[WMS] [PrIME-GC] [XQLX7] [Xiqing] Order conte...  \n",
       "19  [[WMS] [PrIME-LA] [LVLX5] [Louveira] Error in ...  "
      ]
     },
     "execution_count": 10,
     "metadata": {},
     "output_type": "execute_result"
    }
   ],
   "source": [
    "topics_info = topic_model.get_topic_info()\n",
    "topics_info #have a look of the topics and its key words. forget topic 0 since it's a 'other' collection for incidents cannot be clustered into other topics"
   ]
  },
  {
   "cell_type": "markdown",
   "metadata": {},
   "source": [
    "# 1. Fine tune with labelled data"
   ]
  },
  {
   "cell_type": "code",
   "execution_count": 11,
   "metadata": {},
   "outputs": [],
   "source": [
    "file_path = 'WMS PRM Analysis.csv'\n",
    "# please leave no blank in the title of the file, it will raise bug.\n",
    "# the most convinent way is leave this ipynb with the files in the same location, so that you don't need relocate the file path to other places.\n",
    "data = pd.read_csv(file_path,encoding='cp1252').reset_index() #always prefer csv rather than excel (excel needs closed when read the file)\n",
    "training_data = data.dropna(subset=['H1']) #H1 column is the one with higher hierachy of clustering, including some detailed labels\n",
    "#training_data.head() #- first five lines only"
   ]
  },
  {
   "cell_type": "code",
   "execution_count": 12,
   "metadata": {},
   "outputs": [],
   "source": [
    "\n",
    "training_data.to_excel(\n",
    "'training_data1.xlsx'\n",
    ")"
   ]
  },
  {
   "cell_type": "code",
   "execution_count": 13,
   "metadata": {},
   "outputs": [
    {
     "data": {
      "text/plain": [
       "H1\n",
       "Directed work - Incorrect location                    1\n",
       "Invalid Ticket - Should be FR                        13\n",
       "Inventory Management - Cannot adjust inventory        1\n",
       "Inventory Management - Committed Quantity Issue       1\n",
       "Inventory Management - Delete load ID's               1\n",
       "                                                     ..\n",
       "Shipment - Update shipment status                     2\n",
       "Shipment - Work queue issue                           2\n",
       "Work queue - Directed work issue                      1\n",
       "Work queue - Not sorted according to vehicle type     1\n",
       "Work queue - PLL Item pick will not release\\n         1\n",
       "Name: count, Length: 109, dtype: int64"
      ]
     },
     "execution_count": 13,
     "metadata": {},
     "output_type": "execute_result"
    }
   ],
   "source": [
    "# CATEGORY NAMES\n",
    "training_data['H1'].value_counts().sort_index()"
   ]
  },
  {
   "cell_type": "code",
   "execution_count": 14,
   "metadata": {},
   "outputs": [],
   "source": [
    "training_data['groups'] = training_data.groupby('H1').ngroup() #group index for higher layer"
   ]
  },
  {
   "cell_type": "code",
   "execution_count": 15,
   "metadata": {},
   "outputs": [
    {
     "data": {
      "text/plain": [
       "groups\n",
       "0       1\n",
       "1      13\n",
       "2       1\n",
       "3       1\n",
       "4       1\n",
       "       ..\n",
       "104     2\n",
       "105     2\n",
       "106     1\n",
       "107     1\n",
       "108     1\n",
       "Name: count, Length: 109, dtype: int64"
      ]
     },
     "execution_count": 15,
     "metadata": {},
     "output_type": "execute_result"
    }
   ],
   "source": [
    "training_data['groups'].value_counts().sort_index()"
   ]
  },
  {
   "cell_type": "code",
   "execution_count": 16,
   "metadata": {},
   "outputs": [
    {
     "data": {
      "text/plain": [
       "array(['Shipment - Picked Quantity is the same with cancelled quantity Issue',\n",
       "       'Related to PRB0108700',\n",
       "       'Shipment - Cannot use location due to a source shipment that is already dispatched',\n",
       "       'Receiving - duplicate GR IDOC posting',\n",
       "       'Production - Closed work order showing in prime as open status',\n",
       "       'Shipment - Picked Quantity Issue',\n",
       "       'Invalid Ticket - Should be FR', 'SAP - SAP Incident',\n",
       "       'Report - Order Content Check without order line details',\n",
       "       'Shipment - Cannot close shipment', 'Shipment - Cannot allocate',\n",
       "       'Directed work - Incorrect location',\n",
       "       'Shipment - Released pick cancellation not showing in work queue',\n",
       "       'Masterdata - Item Footprint (Outlier)', 'Related to PRB0104570',\n",
       "       'Shipment - Shipment ID is loaded', 'Shipment - Error 11308',\n",
       "       'Related to PRB0104294', 'Shipment - Overpicked ordered quantity',\n",
       "       'Shipment - Cannot use location due to old replenishments/picks',\n",
       "       'Receiving - Cannot close trailer',\n",
       "       'Inventory Management - Cannot adjust inventory',\n",
       "       'Inventory Management - Committed Quantity Issue',\n",
       "       \"Inventory Management - Delete load ID's\",\n",
       "       'Inventory Management - Inventory mismatch between SAP ZL0055 and PrIME Inventory reports',\n",
       "       'Inventory Management - Inventory_reconciliation message cannot flow back to SAP',\n",
       "       'Inventory Management - Not Reproducible',\n",
       "       'Inventory Management - Inventory Status Change',\n",
       "       'Location - Cannot perform Audit count',\n",
       "       'Location - Cannot use location',\n",
       "       'Location - Case picking separation',\n",
       "       'Location - cnt_id not updated',\n",
       "       'Location - Cycle count not generating',\n",
       "       'Location - Location override', 'Location - Process issue',\n",
       "       'Location - Unable to change cycle count date',\n",
       "       'Location - Unable to delete cycle count',\n",
       "       'Production - Create_line_inventory error',\n",
       "       'Related to PRB0108927', 'Output - Cannot print depot labels',\n",
       "       'Platform - PrIME database lockings/ blockings/ long-running sessions',\n",
       "       'RDT - Access issue', 'RDT - Tech issue',\n",
       "       'RDT - Unable to delete invalid device code',\n",
       "       'Receiving - APAL connection issue',\n",
       "       'Receiving - Cannot archive master receipt',\n",
       "       'Receiving - Cannot archive trailer',\n",
       "       'Shipment - Unable to Allocate',\n",
       "       'Receiving - Cannot close trailer (negative cancelled quantity)',\n",
       "       'Receiving - Cannot close trailer\\n',\n",
       "       'Receiving - Cannot close/ dispatch master receipt',\n",
       "       'Receiving - Cannot connect to data replica',\n",
       "       'Receiving - Cannot delete item on receipt',\n",
       "       'Receiving - Cannot dispatch trailer\\n',\n",
       "       'Receiving - Line takeaway issue (Database error 511)',\n",
       "       'Receiving - Cannot post GR', 'Receiving - Cannot unload pallet',\n",
       "       \"Receiving - Delete load ID's\",\n",
       "       'Receiving - Dispatch master receipt but load is not received',\n",
       "       'Receiving - Induction message receipt error',\n",
       "       'Receiving - Invalid master receipt',\n",
       "       'Receiving - Line takeaway issue',\n",
       "       'Receiving - Manufacturing and expiration date mismatch on received loads',\n",
       "       'Receiving - Missing lot number',\n",
       "       'Receiving - Missing master receipt info',\n",
       "       'Receiving - Overreceipt inventory error',\n",
       "       'Receiving - Pack material request rejected due to INDUCTION message delay',\n",
       "       'Receiving - Quantity mismatch between PrIME and SAP',\n",
       "       'Receiving - Receive key issue',\n",
       "       'Receiving - Remove master receipt',\n",
       "       'Receiving - Unable to download SAP data for master receipt',\n",
       "       'Receiving - Update master receipt',\n",
       "       'Receiving - var_list_pick_confirm received in error from ALPS to PrIME',\n",
       "       'Related to PRB0088884', 'Related to PRB0105257',\n",
       "       'Related to PRB0109510 ',\n",
       "       'Report - Inaccurate data on recall report', 'Report - IRA Report',\n",
       "       'Report - Missing data on recall report',\n",
       "       'Report - Missing fields',\n",
       "       'Report - Order Content Check without detailed picked quantities',\n",
       "       'Security - Issue deleting inactive users',\n",
       "       'Related to PRB0109025', 'Shipment - Cancelled quantity issue',\n",
       "       'Shipment - Cannot change inventory status from SAP to PrIME',\n",
       "       'Shipment - Cannot cut non-allocatable order line quantity with non allocatable flag enabled',\n",
       "       'Shipment - Shipment status does not update to \"load completed\"',\n",
       "       'Shipment - Cannot receive closed shipment event/ IDOC in SAP',\n",
       "       'Shipment - Deassign wave number and cancel related picks',\n",
       "       'Shipment - Invalid shipping trailer',\n",
       "       'Shipment - INVENTORY_ATTR_CHANGE issue',\n",
       "       'Shipment - Negative Quantity Issue',\n",
       "       'Shipment - Order/ trailer cannot be closed',\n",
       "       'Shipment - Overallocation\\n',\n",
       "       'Shipment - Overpicked item quantity',\n",
       "       'Shipment - Pallet appears as picked inventory',\n",
       "       'Shipment - Picked flag issue',\n",
       "       'Shipment - Picking/ storage flags',\n",
       "       'Shipment - PLL masterdata issue',\n",
       "       'Shipment - Remove shipping trailer', 'Related to PRB0107343',\n",
       "       'Shipment - Unable to allocate', 'Shipment - Unable to Unload',\n",
       "       'Shipment - Unallocated Quantity Issue',\n",
       "       'Shipment - Update shipment status', 'Shipment - Work queue issue',\n",
       "       'Work queue - Directed work issue',\n",
       "       'Work queue - Not sorted according to vehicle type',\n",
       "       'Work queue - PLL Item pick will not release\\n'], dtype=object)"
      ]
     },
     "execution_count": 16,
     "metadata": {},
     "output_type": "execute_result"
    }
   ],
   "source": [
    "#overview of labels\n",
    "category_names = training_data['H1'].unique()\n",
    "category_names"
   ]
  },
  {
   "cell_type": "code",
   "execution_count": 17,
   "metadata": {},
   "outputs": [],
   "source": [
    "groups = training_data['groups'].to_numpy()\n",
    "#groups\n",
    "\n"
   ]
  },
  {
   "cell_type": "code",
   "execution_count": 18,
   "metadata": {},
   "outputs": [],
   "source": [
    "# #format variables to proper ones\n",
    "docs = training_data['short_description'].to_numpy()\n",
    "#docs"
   ]
  },
  {
   "cell_type": "code",
   "execution_count": 19,
   "metadata": {},
   "outputs": [
    {
     "name": "stderr",
     "output_type": "stream",
     "text": [
      "2024-07-23 09:12:19,950 - BERTopic - Embedding - Transforming documents to embeddings.\n",
      "Batches: 100%|██████████| 8/8 [00:00<00:00, 12.10it/s]\n",
      "2024-07-23 09:12:23,954 - BERTopic - Embedding - Completed ✓\n",
      "2024-07-23 09:12:23,954 - BERTopic - Dimensionality - Fitting the dimensionality reduction algorithm\n",
      "2024-07-23 09:12:25,403 - BERTopic - Dimensionality - Completed ✓\n",
      "2024-07-23 09:12:25,404 - BERTopic - Cluster - Start clustering the reduced embeddings\n",
      "2024-07-23 09:12:25,420 - BERTopic - Cluster - Completed ✓\n",
      "2024-07-23 09:12:25,421 - BERTopic - Representation - Extracting topics from clusters using representation models.\n",
      "2024-07-23 09:12:25,421 - BERTopic - Representation - Completed ✓\n"
     ]
    }
   ],
   "source": [
    "topic_model = BERTopic(verbose=True).fit(docs, y=groups)"
   ]
  },
  {
   "cell_type": "markdown",
   "metadata": {},
   "source": [
    "# 3. Testing (to new incidents we have), by using the model finetuned"
   ]
  },
  {
   "cell_type": "code",
   "execution_count": 61,
   "metadata": {},
   "outputs": [],
   "source": [
    "file_path2 = 'incident_sla-2324-onwards_715.csv' #replace the file by the incidents you want\n",
    "\n",
    "#incident_sla-051524-1850\n",
    "#incident_sla-2324-onwards_715\n",
    "#incident_230630_240111\n",
    "\n",
    "testing = pd.read_csv(file_path2, encoding='latin1').apply(lambda x: x.astype(str)) #,index_col='number')\n",
    "testing = testing.rename(columns={'problem_id.u_component': 'problem_component', 'inc_short_description': 'short_description'})"
   ]
  },
  {
   "cell_type": "code",
   "execution_count": 264,
   "metadata": {},
   "outputs": [],
   "source": [
    "#included in code above\n",
    "#testing = testing.rename(columns={'inc_short_description': 'short_description'}) "
   ]
  },
  {
   "cell_type": "code",
   "execution_count": 62,
   "metadata": {},
   "outputs": [],
   "source": [
    "docs_testing = testing['short_description']"
   ]
  },
  {
   "cell_type": "code",
   "execution_count": 63,
   "metadata": {},
   "outputs": [
    {
     "name": "stdout",
     "output_type": "stream",
     "text": [
      "BERTopic(calculate_probabilities=False, ctfidf_model=ClassTfidfTransformer(...), embedding_model=<bertopic.backend._sentencetransformers.SentenceTransformerBackend object at 0x000001CBDF9F94C0>, hdbscan_model=HDBSCAN(...), language=english, low_memory=False, min_topic_size=10, n_gram_range=(1, 1), nr_topics=None, representation_model=None, seed_topic_list=None, top_n_words=10, umap_model=UMAP(...), vectorizer_model=CountVectorizer(...), verbose=True, zeroshot_min_similarity=0.7, zeroshot_topic_list=None)\n"
     ]
    }
   ],
   "source": [
    "print(topic_model)"
   ]
  },
  {
   "cell_type": "code",
   "execution_count": 64,
   "metadata": {},
   "outputs": [
    {
     "name": "stderr",
     "output_type": "stream",
     "text": [
      "2024-07-23 12:42:37,392 - BERTopic - Embedding - Transforming documents to embeddings.\n",
      "Batches: 100%|██████████| 18/18 [00:04<00:00,  4.40it/s]\n",
      "2024-07-23 12:42:41,504 - BERTopic - Embedding - Completed ✓\n",
      "2024-07-23 12:42:41,504 - BERTopic - Dimensionality - Fitting the dimensionality reduction algorithm\n",
      "2024-07-23 12:42:44,251 - BERTopic - Dimensionality - Completed ✓\n",
      "2024-07-23 12:42:44,263 - BERTopic - Cluster - Start clustering the reduced embeddings\n",
      "2024-07-23 12:42:44,295 - BERTopic - Cluster - Completed ✓\n",
      "2024-07-23 12:42:44,295 - BERTopic - Representation - Extracting topics from clusters using representation models.\n",
      "2024-07-23 12:42:44,342 - BERTopic - Representation - Completed ✓\n"
     ]
    }
   ],
   "source": [
    "topics, probs = topic_model.fit_transform(docs_testing)"
   ]
  },
  {
   "cell_type": "code",
   "execution_count": 65,
   "metadata": {},
   "outputs": [
    {
     "data": {
      "text/html": [
       "<div>\n",
       "<style scoped>\n",
       "    .dataframe tbody tr th:only-of-type {\n",
       "        vertical-align: middle;\n",
       "    }\n",
       "\n",
       "    .dataframe tbody tr th {\n",
       "        vertical-align: top;\n",
       "    }\n",
       "\n",
       "    .dataframe thead th {\n",
       "        text-align: right;\n",
       "    }\n",
       "</style>\n",
       "<table border=\"1\" class=\"dataframe\">\n",
       "  <thead>\n",
       "    <tr style=\"text-align: right;\">\n",
       "      <th></th>\n",
       "      <th>Topic</th>\n",
       "      <th>Count</th>\n",
       "      <th>Name</th>\n",
       "      <th>Representation</th>\n",
       "      <th>Representative_Docs</th>\n",
       "    </tr>\n",
       "  </thead>\n",
       "  <tbody>\n",
       "    <tr>\n",
       "      <th>0</th>\n",
       "      <td>-1</td>\n",
       "      <td>112</td>\n",
       "      <td>-1_primeeu_wms_nemc_shippensburg</td>\n",
       "      <td>[primeeu, wms, nemc, shippensburg, shlg5, prim...</td>\n",
       "      <td>[[WMS] [PrIME-NA] [SHLG5] [Shippensburg NEMC] ...</td>\n",
       "    </tr>\n",
       "    <tr>\n",
       "      <th>1</th>\n",
       "      <td>0</td>\n",
       "      <td>88</td>\n",
       "      <td>0_rtcisna_rtciseu_rtcis_wms</td>\n",
       "      <td>[rtcisna, rtciseu, rtcis, wms, rtcisla, rtcisa...</td>\n",
       "      <td>[[WMS] [RTCIS-NA] [GBLX4] [Green Bay] User aa3...</td>\n",
       "    </tr>\n",
       "    <tr>\n",
       "      <th>2</th>\n",
       "      <td>1</td>\n",
       "      <td>72</td>\n",
       "      <td>1_primena_greater_chicago_moreno</td>\n",
       "      <td>[primena, greater, chicago, moreno, valley, wc...</td>\n",
       "      <td>[[WMS] [PrIME-NA] [MVLG5] [Moreno Valley WCMC]...</td>\n",
       "    </tr>\n",
       "    <tr>\n",
       "      <th>3</th>\n",
       "      <td>2</td>\n",
       "      <td>48</td>\n",
       "      <td>2_obispo_martin_san_mdclx7</td>\n",
       "      <td>[obispo, martin, san, mdclx7, primela, carrier...</td>\n",
       "      <td>[[WMS] [PrIME-LA] [MDCLX7] [San Martin Obispo]...</td>\n",
       "    </tr>\n",
       "    <tr>\n",
       "      <th>4</th>\n",
       "      <td>3</td>\n",
       "      <td>22</td>\n",
       "      <td>3_louveira_lvlx5_primela_lvlx56</td>\n",
       "      <td>[louveira, lvlx5, primela, lvlx56, the, shipme...</td>\n",
       "      <td>[[WMS] [PrIME-LA] [LVLX5] [Louveira] cannot cu...</td>\n",
       "    </tr>\n",
       "    <tr>\n",
       "      <th>5</th>\n",
       "      <td>4</td>\n",
       "      <td>22</td>\n",
       "      <td>4_trailer_move_chicago_greater</td>\n",
       "      <td>[trailer, move, chicago, greater, to, gcfclg5,...</td>\n",
       "      <td>[[WMS] [PrIME-NA] [GCFCLG5] [Greater Chicago] ...</td>\n",
       "    </tr>\n",
       "    <tr>\n",
       "      <th>6</th>\n",
       "      <td>5</td>\n",
       "      <td>19</td>\n",
       "      <td>5_rhodonite_rholg5_andover_primena</td>\n",
       "      <td>[rhodonite, rholg5, andover, primena, rholg567...</td>\n",
       "      <td>[[WMS] [PrIME-NA] [RHOLG5] [Andover Rhodonite]...</td>\n",
       "    </tr>\n",
       "    <tr>\n",
       "      <th>7</th>\n",
       "      <td>6</td>\n",
       "      <td>18</td>\n",
       "      <td>6_delete_unable_fulfillment_southeast</td>\n",
       "      <td>[delete, unable, fulfillment, southeast, cente...</td>\n",
       "      <td>[[WMS] [PrIME-NA] [MVLG5] [Moreno Valley WCMC]...</td>\n",
       "    </tr>\n",
       "    <tr>\n",
       "      <th>8</th>\n",
       "      <td>7</td>\n",
       "      <td>18</td>\n",
       "      <td>7_pallet_pallets_gyongyos_received</td>\n",
       "      <td>[pallet, pallets, gyongyos, received, karachi,...</td>\n",
       "      <td>[[WMS] [PrIME-EU] [GYOLG5] [Gyongyos] Load are...</td>\n",
       "    </tr>\n",
       "    <tr>\n",
       "      <th>9</th>\n",
       "      <td>8</td>\n",
       "      <td>17</td>\n",
       "      <td>8_master_receipt_obispo_martin</td>\n",
       "      <td>[master, receipt, obispo, martin, san, primela...</td>\n",
       "      <td>[[WMS] [PrIME-LA] [MDCLX7] [San Martin Obispo]...</td>\n",
       "    </tr>\n",
       "    <tr>\n",
       "      <th>10</th>\n",
       "      <td>9</td>\n",
       "      <td>17</td>\n",
       "      <td>9_brantford_bmclg5_missing_ul</td>\n",
       "      <td>[brantford, bmclg5, missing, ul, lost, ulid, p...</td>\n",
       "      <td>[[WMS] [PrIME-NA] [BMCLG5] [Brantford] Missing...</td>\n",
       "    </tr>\n",
       "    <tr>\n",
       "      <th>11</th>\n",
       "      <td>10</td>\n",
       "      <td>16</td>\n",
       "      <td>10_slowness_dayplg5_dymc_dayton</td>\n",
       "      <td>[slowness, dayplg5, dymc, dayton, primena, sys...</td>\n",
       "      <td>[[WMS] [PrIME-NA] [DAYPLG5] [Dayton DYMC] Slow...</td>\n",
       "    </tr>\n",
       "    <tr>\n",
       "      <th>12</th>\n",
       "      <td>11</td>\n",
       "      <td>16</td>\n",
       "      <td>11_luogang_primegc_lulx5_lulx56</td>\n",
       "      <td>[luogang, primegc, lulx5, lulx56, po, disappea...</td>\n",
       "      <td>[[WMS] [PrIME-GC] [LULX5/6] [Luogang] load num...</td>\n",
       "    </tr>\n",
       "    <tr>\n",
       "      <th>13</th>\n",
       "      <td>12</td>\n",
       "      <td>15</td>\n",
       "      <td>12_cycle_rnelx5_rionegro_count</td>\n",
       "      <td>[cycle, rnelx5, rionegro, count, problem, issu...</td>\n",
       "      <td>[[WMS] [PrIME-LA] [RNELX5] [Rionegro]: Issue w...</td>\n",
       "    </tr>\n",
       "    <tr>\n",
       "      <th>14</th>\n",
       "      <td>13</td>\n",
       "      <td>13</td>\n",
       "      <td>13_primegc_huangpu_xiqing_hplx6</td>\n",
       "      <td>[primegc, huangpu, xiqing, hplx6, xqlx7, inv, ...</td>\n",
       "      <td>[[WMS] [PrIME-GC] [HPLX6] [Huangpu]- Can't not...</td>\n",
       "    </tr>\n",
       "    <tr>\n",
       "      <th>15</th>\n",
       "      <td>14</td>\n",
       "      <td>12</td>\n",
       "      <td>14_dtc_andover_anlx5_wave</td>\n",
       "      <td>[dtc, andover, anlx5, wave, anlx6, orders, stu...</td>\n",
       "      <td>[[WMS] [PrIME-NA] [ANLX5] [Andover DTC] There ...</td>\n",
       "    </tr>\n",
       "    <tr>\n",
       "      <th>16</th>\n",
       "      <td>15</td>\n",
       "      <td>12</td>\n",
       "      <td>15_jijlg5_jijona_primeeu_check</td>\n",
       "      <td>[jijlg5, jijona, primeeu, check, order, work, ...</td>\n",
       "      <td>[[WMS] [PrIME-EU] [JIJLG5] [Jijona] Production...</td>\n",
       "    </tr>\n",
       "    <tr>\n",
       "      <th>17</th>\n",
       "      <td>16</td>\n",
       "      <td>12</td>\n",
       "      <td>16_cabuyao_primeamae_carrier_id</td>\n",
       "      <td>[cabuyao, primeamae, carrier, id, move, cdlx6,...</td>\n",
       "      <td>[[WMS] [PrIME-AMA-E] [CDLX6] [Cabuyao] \\tunabl...</td>\n",
       "    </tr>\n",
       "    <tr>\n",
       "      <th>18</th>\n",
       "      <td>17</td>\n",
       "      <td>12</td>\n",
       "      <td>17_humio_alert_illumioagentgoodbye_illumioagen...</td>\n",
       "      <td>[humio, alert, illumioagentgoodbye, illumioage...</td>\n",
       "      <td>[Humio Alert - Illumio_Agent_Missed_Heartbeats...</td>\n",
       "    </tr>\n",
       "    <tr>\n",
       "      <th>19</th>\n",
       "      <td>18</td>\n",
       "      <td>11</td>\n",
       "      <td>18_reached_maximum_processes_belx1</td>\n",
       "      <td>[reached, maximum, processes, belx1, oracle, 9...</td>\n",
       "      <td>[[WMS] [RTCIS-NA] [BELX1/2] [Belleville] \\t\\tU...</td>\n",
       "    </tr>\n",
       "  </tbody>\n",
       "</table>\n",
       "</div>"
      ],
      "text/plain": [
       "    Topic  Count                                               Name  \\\n",
       "0      -1    112                   -1_primeeu_wms_nemc_shippensburg   \n",
       "1       0     88                        0_rtcisna_rtciseu_rtcis_wms   \n",
       "2       1     72                   1_primena_greater_chicago_moreno   \n",
       "3       2     48                         2_obispo_martin_san_mdclx7   \n",
       "4       3     22                    3_louveira_lvlx5_primela_lvlx56   \n",
       "5       4     22                     4_trailer_move_chicago_greater   \n",
       "6       5     19                 5_rhodonite_rholg5_andover_primena   \n",
       "7       6     18              6_delete_unable_fulfillment_southeast   \n",
       "8       7     18                 7_pallet_pallets_gyongyos_received   \n",
       "9       8     17                     8_master_receipt_obispo_martin   \n",
       "10      9     17                      9_brantford_bmclg5_missing_ul   \n",
       "11     10     16                    10_slowness_dayplg5_dymc_dayton   \n",
       "12     11     16                    11_luogang_primegc_lulx5_lulx56   \n",
       "13     12     15                     12_cycle_rnelx5_rionegro_count   \n",
       "14     13     13                    13_primegc_huangpu_xiqing_hplx6   \n",
       "15     14     12                          14_dtc_andover_anlx5_wave   \n",
       "16     15     12                     15_jijlg5_jijona_primeeu_check   \n",
       "17     16     12                    16_cabuyao_primeamae_carrier_id   \n",
       "18     17     12  17_humio_alert_illumioagentgoodbye_illumioagen...   \n",
       "19     18     11                 18_reached_maximum_processes_belx1   \n",
       "\n",
       "                                       Representation  \\\n",
       "0   [primeeu, wms, nemc, shippensburg, shlg5, prim...   \n",
       "1   [rtcisna, rtciseu, rtcis, wms, rtcisla, rtcisa...   \n",
       "2   [primena, greater, chicago, moreno, valley, wc...   \n",
       "3   [obispo, martin, san, mdclx7, primela, carrier...   \n",
       "4   [louveira, lvlx5, primela, lvlx56, the, shipme...   \n",
       "5   [trailer, move, chicago, greater, to, gcfclg5,...   \n",
       "6   [rhodonite, rholg5, andover, primena, rholg567...   \n",
       "7   [delete, unable, fulfillment, southeast, cente...   \n",
       "8   [pallet, pallets, gyongyos, received, karachi,...   \n",
       "9   [master, receipt, obispo, martin, san, primela...   \n",
       "10  [brantford, bmclg5, missing, ul, lost, ulid, p...   \n",
       "11  [slowness, dayplg5, dymc, dayton, primena, sys...   \n",
       "12  [luogang, primegc, lulx5, lulx56, po, disappea...   \n",
       "13  [cycle, rnelx5, rionegro, count, problem, issu...   \n",
       "14  [primegc, huangpu, xiqing, hplx6, xqlx7, inv, ...   \n",
       "15  [dtc, andover, anlx5, wave, anlx6, orders, stu...   \n",
       "16  [jijlg5, jijona, primeeu, check, order, work, ...   \n",
       "17  [cabuyao, primeamae, carrier, id, move, cdlx6,...   \n",
       "18  [humio, alert, illumioagentgoodbye, illumioage...   \n",
       "19  [reached, maximum, processes, belx1, oracle, 9...   \n",
       "\n",
       "                                  Representative_Docs  \n",
       "0   [[WMS] [PrIME-NA] [SHLG5] [Shippensburg NEMC] ...  \n",
       "1   [[WMS] [RTCIS-NA] [GBLX4] [Green Bay] User aa3...  \n",
       "2   [[WMS] [PrIME-NA] [MVLG5] [Moreno Valley WCMC]...  \n",
       "3   [[WMS] [PrIME-LA] [MDCLX7] [San Martin Obispo]...  \n",
       "4   [[WMS] [PrIME-LA] [LVLX5] [Louveira] cannot cu...  \n",
       "5   [[WMS] [PrIME-NA] [GCFCLG5] [Greater Chicago] ...  \n",
       "6   [[WMS] [PrIME-NA] [RHOLG5] [Andover Rhodonite]...  \n",
       "7   [[WMS] [PrIME-NA] [MVLG5] [Moreno Valley WCMC]...  \n",
       "8   [[WMS] [PrIME-EU] [GYOLG5] [Gyongyos] Load are...  \n",
       "9   [[WMS] [PrIME-LA] [MDCLX7] [San Martin Obispo]...  \n",
       "10  [[WMS] [PrIME-NA] [BMCLG5] [Brantford] Missing...  \n",
       "11  [[WMS] [PrIME-NA] [DAYPLG5] [Dayton DYMC] Slow...  \n",
       "12  [[WMS] [PrIME-GC] [LULX5/6] [Luogang] load num...  \n",
       "13  [[WMS] [PrIME-LA] [RNELX5] [Rionegro]: Issue w...  \n",
       "14  [[WMS] [PrIME-GC] [HPLX6] [Huangpu]- Can't not...  \n",
       "15  [[WMS] [PrIME-NA] [ANLX5] [Andover DTC] There ...  \n",
       "16  [[WMS] [PrIME-EU] [JIJLG5] [Jijona] Production...  \n",
       "17  [[WMS] [PrIME-AMA-E] [CDLX6] [Cabuyao] \\tunabl...  \n",
       "18  [Humio Alert - Illumio_Agent_Missed_Heartbeats...  \n",
       "19  [[WMS] [RTCIS-NA] [BELX1/2] [Belleville] \\t\\tU...  "
      ]
     },
     "execution_count": 65,
     "metadata": {},
     "output_type": "execute_result"
    }
   ],
   "source": [
    "result = topic_model.get_topic_info()\n",
    "result"
   ]
  },
  {
   "cell_type": "code",
   "execution_count": 57,
   "metadata": {},
   "outputs": [
    {
     "name": "stdout",
     "output_type": "stream",
     "text": [
      "BERTopic(calculate_probabilities=False, ctfidf_model=ClassTfidfTransformer(...), embedding_model=<bertopic.backend._sentencetransformers.SentenceTransformerBackend object at 0x000001CBDF9F94C0>, hdbscan_model=HDBSCAN(...), language=english, low_memory=False, min_topic_size=10, n_gram_range=(1, 1), nr_topics=None, representation_model=None, seed_topic_list=None, top_n_words=10, umap_model=UMAP(...), vectorizer_model=CountVectorizer(...), verbose=True, zeroshot_min_similarity=0.7, zeroshot_topic_list=None)\n"
     ]
    }
   ],
   "source": [
    "print(topic_model)"
   ]
  },
  {
   "cell_type": "code",
   "execution_count": null,
   "metadata": {},
   "outputs": [],
   "source": [
    "# result.to_excel('lexine3.xlsx')"
   ]
  },
  {
   "cell_type": "code",
   "execution_count": 262,
   "metadata": {},
   "outputs": [],
   "source": [
    "testing['GROUPS'] = topics"
   ]
  },
  {
   "cell_type": "code",
   "execution_count": null,
   "metadata": {},
   "outputs": [],
   "source": [
    "#testing.to_excel('lexine1.xlsx') #change the name to your desired one, download it to local "
   ]
  },
  {
   "cell_type": "markdown",
   "metadata": {},
   "source": [
    "To save trained model (pickle version)"
   ]
  },
  {
   "cell_type": "code",
   "execution_count": 88,
   "metadata": {},
   "outputs": [],
   "source": [
    "import pickle\n",
    "\n",
    "# Save model in pickle file\n",
    "\n",
    "filename = open(\"final_trained_model.pkl\", 'wb')\n",
    "pickle.dump(topic_model, filename)\n",
    "filename.close()\n"
   ]
  },
  {
   "cell_type": "code",
   "execution_count": 89,
   "metadata": {},
   "outputs": [
    {
     "name": "stderr",
     "output_type": "stream",
     "text": [
      "2024-07-23 13:24:27,517 - BERTopic - Embedding - Transforming documents to embeddings.\n",
      "Batches: 100%|██████████| 18/18 [00:03<00:00,  4.62it/s]\n",
      "2024-07-23 13:24:31,431 - BERTopic - Embedding - Completed ✓\n",
      "2024-07-23 13:24:31,431 - BERTopic - Dimensionality - Fitting the dimensionality reduction algorithm\n",
      "2024-07-23 13:24:34,235 - BERTopic - Dimensionality - Completed ✓\n",
      "2024-07-23 13:24:34,235 - BERTopic - Cluster - Start clustering the reduced embeddings\n",
      "2024-07-23 13:24:34,254 - BERTopic - Cluster - Completed ✓\n",
      "2024-07-23 13:24:34,256 - BERTopic - Representation - Extracting topics from clusters using representation models.\n",
      "2024-07-23 13:24:34,282 - BERTopic - Representation - Completed ✓\n"
     ]
    },
    {
     "data": {
      "text/html": [
       "<div>\n",
       "<style scoped>\n",
       "    .dataframe tbody tr th:only-of-type {\n",
       "        vertical-align: middle;\n",
       "    }\n",
       "\n",
       "    .dataframe tbody tr th {\n",
       "        vertical-align: top;\n",
       "    }\n",
       "\n",
       "    .dataframe thead th {\n",
       "        text-align: right;\n",
       "    }\n",
       "</style>\n",
       "<table border=\"1\" class=\"dataframe\">\n",
       "  <thead>\n",
       "    <tr style=\"text-align: right;\">\n",
       "      <th></th>\n",
       "      <th>Topic</th>\n",
       "      <th>Count</th>\n",
       "      <th>Name</th>\n",
       "      <th>Representation</th>\n",
       "      <th>Representative_Docs</th>\n",
       "    </tr>\n",
       "  </thead>\n",
       "  <tbody>\n",
       "    <tr>\n",
       "      <th>0</th>\n",
       "      <td>-1</td>\n",
       "      <td>135</td>\n",
       "      <td>-1_wms_primena_not_shippensburg</td>\n",
       "      <td>[wms, primena, not, shippensburg, nemc, shlg5,...</td>\n",
       "      <td>[[WMS] [PrIME-NA] [SHLG5] [Shippensburg NEMC] ...</td>\n",
       "    </tr>\n",
       "    <tr>\n",
       "      <th>1</th>\n",
       "      <td>0</td>\n",
       "      <td>91</td>\n",
       "      <td>0_rtcisna_rtciseu_rtcis_wms</td>\n",
       "      <td>[rtcisna, rtciseu, rtcis, wms, rtcisla, rtcisa...</td>\n",
       "      <td>[[WMS] [RTCIS-NA] [GBLX4] [Green Bay] User aa3...</td>\n",
       "    </tr>\n",
       "    <tr>\n",
       "      <th>2</th>\n",
       "      <td>1</td>\n",
       "      <td>37</td>\n",
       "      <td>1_obispo_martin_san_primela</td>\n",
       "      <td>[obispo, martin, san, primela, mdclx7, carrier...</td>\n",
       "      <td>[[WMS] [PrIME-LA] [MDCLX7] [San Martin Obispo]...</td>\n",
       "    </tr>\n",
       "    <tr>\n",
       "      <th>3</th>\n",
       "      <td>2</td>\n",
       "      <td>34</td>\n",
       "      <td>2_moreno_valley_mvlg5_wcmc</td>\n",
       "      <td>[moreno, valley, mvlg5, wcmc, primena, close, ...</td>\n",
       "      <td>[[WMS] [PrIME-NA] [MVLG5] [Moreno Valley WCMC]...</td>\n",
       "    </tr>\n",
       "    <tr>\n",
       "      <th>4</th>\n",
       "      <td>3</td>\n",
       "      <td>30</td>\n",
       "      <td>3_delete_jijona_jijlg5_primeeu</td>\n",
       "      <td>[delete, jijona, jijlg5, primeeu, unable, orde...</td>\n",
       "      <td>[[WMS] [PrIME-EU] [JIJLG5] [Jijona] PrIME retu...</td>\n",
       "    </tr>\n",
       "    <tr>\n",
       "      <th>5</th>\n",
       "      <td>4</td>\n",
       "      <td>21</td>\n",
       "      <td>4_trailer_move_greater_chicago</td>\n",
       "      <td>[trailer, move, greater, chicago, to, gcfclg5,...</td>\n",
       "      <td>[[WMS] [PrIME-NA] [GCFCLG5] [Greater Chicago] ...</td>\n",
       "    </tr>\n",
       "    <tr>\n",
       "      <th>6</th>\n",
       "      <td>5</td>\n",
       "      <td>21</td>\n",
       "      <td>5_louveira_lvlx5_primela_lvlx56</td>\n",
       "      <td>[louveira, lvlx5, primela, lvlx56, shipment, l...</td>\n",
       "      <td>[[WMS] [PrIME-LA] [LVLX5] [Louveira] cannot cu...</td>\n",
       "    </tr>\n",
       "    <tr>\n",
       "      <th>7</th>\n",
       "      <td>6</td>\n",
       "      <td>20</td>\n",
       "      <td>6_greater_chicago_gcfclg5_primena</td>\n",
       "      <td>[greater, chicago, gcfclg5, primena, shipment,...</td>\n",
       "      <td>[[WMS] [PrIME-NA] [GCFCLG5] [Greater Chicago] ...</td>\n",
       "    </tr>\n",
       "    <tr>\n",
       "      <th>8</th>\n",
       "      <td>7</td>\n",
       "      <td>20</td>\n",
       "      <td>7_pallet_pallets_primeeu_gyongyos</td>\n",
       "      <td>[pallet, pallets, primeeu, gyongyos, received,...</td>\n",
       "      <td>[[WMS] [PrIME-EU] [GYOLG5] [Gyongyos] Load are...</td>\n",
       "    </tr>\n",
       "    <tr>\n",
       "      <th>9</th>\n",
       "      <td>8</td>\n",
       "      <td>18</td>\n",
       "      <td>8_master_receipt_obispo_martin</td>\n",
       "      <td>[master, receipt, obispo, martin, san, primela...</td>\n",
       "      <td>[[WMS] [PrIME-LA] [MDCLX7] [San Martin Obispo]...</td>\n",
       "    </tr>\n",
       "    <tr>\n",
       "      <th>10</th>\n",
       "      <td>9</td>\n",
       "      <td>17</td>\n",
       "      <td>9_luogang_primegc_lulx5_lulx56</td>\n",
       "      <td>[luogang, primegc, lulx5, lulx56, po, disappea...</td>\n",
       "      <td>[[WMS] [PrIME-GC] [LULX5/6] [Luogang] load num...</td>\n",
       "    </tr>\n",
       "    <tr>\n",
       "      <th>11</th>\n",
       "      <td>10</td>\n",
       "      <td>17</td>\n",
       "      <td>10_brantford_bmclg5_missing_ul</td>\n",
       "      <td>[brantford, bmclg5, missing, ul, lost, ulid, p...</td>\n",
       "      <td>[[WMS] [PrIME-NA] [BMCLG5] [Brantford] Missing...</td>\n",
       "    </tr>\n",
       "    <tr>\n",
       "      <th>12</th>\n",
       "      <td>11</td>\n",
       "      <td>17</td>\n",
       "      <td>11_rhodonite_rholg5_andover_rholg567</td>\n",
       "      <td>[rhodonite, rholg5, andover, rholg567, release...</td>\n",
       "      <td>[[WMS] [PrIME-NA] [RHOLG5] [Andover Rhodonite]...</td>\n",
       "    </tr>\n",
       "    <tr>\n",
       "      <th>13</th>\n",
       "      <td>12</td>\n",
       "      <td>16</td>\n",
       "      <td>12_slowness_dayplg5_dymc_dayton</td>\n",
       "      <td>[slowness, dayplg5, dymc, dayton, primena, sys...</td>\n",
       "      <td>[[WMS] [PrIME-NA] [DAYPLG5] [Dayton DYMC] Slow...</td>\n",
       "    </tr>\n",
       "    <tr>\n",
       "      <th>14</th>\n",
       "      <td>13</td>\n",
       "      <td>12</td>\n",
       "      <td>13_primegc_huangpu_xiqing_hplx6</td>\n",
       "      <td>[primegc, huangpu, xiqing, hplx6, xqlx7, inv, ...</td>\n",
       "      <td>[[WMS] [PrIME-GC] [HPLX6] [Huangpu]- Can't not...</td>\n",
       "    </tr>\n",
       "    <tr>\n",
       "      <th>15</th>\n",
       "      <td>14</td>\n",
       "      <td>12</td>\n",
       "      <td>14_amplg5_kheops_primeeu_karlx5</td>\n",
       "      <td>[amplg5, kheops, primeeu, karlx5, karachi, upd...</td>\n",
       "      <td>[[WMS] [PrIME-EU] [AMPLG5] [Kheops] - Overpick...</td>\n",
       "    </tr>\n",
       "    <tr>\n",
       "      <th>16</th>\n",
       "      <td>15</td>\n",
       "      <td>12</td>\n",
       "      <td>15_humio_alert_illumioagentgoodbye_illumioagen...</td>\n",
       "      <td>[humio, alert, illumioagentgoodbye, illumioage...</td>\n",
       "      <td>[Humio Alert - Illumio_Agent_Goodbye, Humio Al...</td>\n",
       "    </tr>\n",
       "    <tr>\n",
       "      <th>17</th>\n",
       "      <td>16</td>\n",
       "      <td>11</td>\n",
       "      <td>16_andover_dtc_anlx5_wave</td>\n",
       "      <td>[andover, dtc, anlx5, wave, anlx6, stuck, name...</td>\n",
       "      <td>[[WMS] [PrIME-NA] [ANLX5] [Andover DTC] There ...</td>\n",
       "    </tr>\n",
       "    <tr>\n",
       "      <th>18</th>\n",
       "      <td>17</td>\n",
       "      <td>11</td>\n",
       "      <td>17_reached_maximum_processes_belx1</td>\n",
       "      <td>[reached, maximum, processes, belx1, oracle, 9...</td>\n",
       "      <td>[[WMS] [RTCIS-NA] [BELX1/2] [Belleville] \\t\\tU...</td>\n",
       "    </tr>\n",
       "    <tr>\n",
       "      <th>19</th>\n",
       "      <td>18</td>\n",
       "      <td>10</td>\n",
       "      <td>18_cycle_count_automatic_mig001</td>\n",
       "      <td>[cycle, count, automatic, mig001, conduct, cou...</td>\n",
       "      <td>[[WMS] [PrIME-EU] [SEKLX5] [Sekerpinar] automa...</td>\n",
       "    </tr>\n",
       "    <tr>\n",
       "      <th>20</th>\n",
       "      <td>19</td>\n",
       "      <td>10</td>\n",
       "      <td>19_cabuyao_primeamae_carrier_id</td>\n",
       "      <td>[cabuyao, primeamae, carrier, id, move, cdlx6,...</td>\n",
       "      <td>[[WMS] [PrIME-AMA-E] [CDLX5] [Cabuyao] Over Pi...</td>\n",
       "    </tr>\n",
       "  </tbody>\n",
       "</table>\n",
       "</div>"
      ],
      "text/plain": [
       "    Topic  Count                                               Name  \\\n",
       "0      -1    135                    -1_wms_primena_not_shippensburg   \n",
       "1       0     91                        0_rtcisna_rtciseu_rtcis_wms   \n",
       "2       1     37                        1_obispo_martin_san_primela   \n",
       "3       2     34                         2_moreno_valley_mvlg5_wcmc   \n",
       "4       3     30                     3_delete_jijona_jijlg5_primeeu   \n",
       "5       4     21                     4_trailer_move_greater_chicago   \n",
       "6       5     21                    5_louveira_lvlx5_primela_lvlx56   \n",
       "7       6     20                  6_greater_chicago_gcfclg5_primena   \n",
       "8       7     20                  7_pallet_pallets_primeeu_gyongyos   \n",
       "9       8     18                     8_master_receipt_obispo_martin   \n",
       "10      9     17                     9_luogang_primegc_lulx5_lulx56   \n",
       "11     10     17                     10_brantford_bmclg5_missing_ul   \n",
       "12     11     17               11_rhodonite_rholg5_andover_rholg567   \n",
       "13     12     16                    12_slowness_dayplg5_dymc_dayton   \n",
       "14     13     12                    13_primegc_huangpu_xiqing_hplx6   \n",
       "15     14     12                    14_amplg5_kheops_primeeu_karlx5   \n",
       "16     15     12  15_humio_alert_illumioagentgoodbye_illumioagen...   \n",
       "17     16     11                          16_andover_dtc_anlx5_wave   \n",
       "18     17     11                 17_reached_maximum_processes_belx1   \n",
       "19     18     10                    18_cycle_count_automatic_mig001   \n",
       "20     19     10                    19_cabuyao_primeamae_carrier_id   \n",
       "\n",
       "                                       Representation  \\\n",
       "0   [wms, primena, not, shippensburg, nemc, shlg5,...   \n",
       "1   [rtcisna, rtciseu, rtcis, wms, rtcisla, rtcisa...   \n",
       "2   [obispo, martin, san, primela, mdclx7, carrier...   \n",
       "3   [moreno, valley, mvlg5, wcmc, primena, close, ...   \n",
       "4   [delete, jijona, jijlg5, primeeu, unable, orde...   \n",
       "5   [trailer, move, greater, chicago, to, gcfclg5,...   \n",
       "6   [louveira, lvlx5, primela, lvlx56, shipment, l...   \n",
       "7   [greater, chicago, gcfclg5, primena, shipment,...   \n",
       "8   [pallet, pallets, primeeu, gyongyos, received,...   \n",
       "9   [master, receipt, obispo, martin, san, primela...   \n",
       "10  [luogang, primegc, lulx5, lulx56, po, disappea...   \n",
       "11  [brantford, bmclg5, missing, ul, lost, ulid, p...   \n",
       "12  [rhodonite, rholg5, andover, rholg567, release...   \n",
       "13  [slowness, dayplg5, dymc, dayton, primena, sys...   \n",
       "14  [primegc, huangpu, xiqing, hplx6, xqlx7, inv, ...   \n",
       "15  [amplg5, kheops, primeeu, karlx5, karachi, upd...   \n",
       "16  [humio, alert, illumioagentgoodbye, illumioage...   \n",
       "17  [andover, dtc, anlx5, wave, anlx6, stuck, name...   \n",
       "18  [reached, maximum, processes, belx1, oracle, 9...   \n",
       "19  [cycle, count, automatic, mig001, conduct, cou...   \n",
       "20  [cabuyao, primeamae, carrier, id, move, cdlx6,...   \n",
       "\n",
       "                                  Representative_Docs  \n",
       "0   [[WMS] [PrIME-NA] [SHLG5] [Shippensburg NEMC] ...  \n",
       "1   [[WMS] [RTCIS-NA] [GBLX4] [Green Bay] User aa3...  \n",
       "2   [[WMS] [PrIME-LA] [MDCLX7] [San Martin Obispo]...  \n",
       "3   [[WMS] [PrIME-NA] [MVLG5] [Moreno Valley WCMC]...  \n",
       "4   [[WMS] [PrIME-EU] [JIJLG5] [Jijona] PrIME retu...  \n",
       "5   [[WMS] [PrIME-NA] [GCFCLG5] [Greater Chicago] ...  \n",
       "6   [[WMS] [PrIME-LA] [LVLX5] [Louveira] cannot cu...  \n",
       "7   [[WMS] [PrIME-NA] [GCFCLG5] [Greater Chicago] ...  \n",
       "8   [[WMS] [PrIME-EU] [GYOLG5] [Gyongyos] Load are...  \n",
       "9   [[WMS] [PrIME-LA] [MDCLX7] [San Martin Obispo]...  \n",
       "10  [[WMS] [PrIME-GC] [LULX5/6] [Luogang] load num...  \n",
       "11  [[WMS] [PrIME-NA] [BMCLG5] [Brantford] Missing...  \n",
       "12  [[WMS] [PrIME-NA] [RHOLG5] [Andover Rhodonite]...  \n",
       "13  [[WMS] [PrIME-NA] [DAYPLG5] [Dayton DYMC] Slow...  \n",
       "14  [[WMS] [PrIME-GC] [HPLX6] [Huangpu]- Can't not...  \n",
       "15  [[WMS] [PrIME-EU] [AMPLG5] [Kheops] - Overpick...  \n",
       "16  [Humio Alert - Illumio_Agent_Goodbye, Humio Al...  \n",
       "17  [[WMS] [PrIME-NA] [ANLX5] [Andover DTC] There ...  \n",
       "18  [[WMS] [RTCIS-NA] [BELX1/2] [Belleville] \\t\\tU...  \n",
       "19  [[WMS] [PrIME-EU] [SEKLX5] [Sekerpinar] automa...  \n",
       "20  [[WMS] [PrIME-AMA-E] [CDLX5] [Cabuyao] Over Pi...  "
      ]
     },
     "execution_count": 89,
     "metadata": {},
     "output_type": "execute_result"
    }
   ],
   "source": [
    "\n",
    "filename = \"final_trained_model.pkl\"\n",
    "input_file_path = 'incident_sla-2324-onwards_715.csv'  # replace the file by the incidents you want\n",
    "\n",
    "# Load the model\n",
    "loaded_model = pickle.load(open(filename, 'rb')) \n",
    "#pickle.dump(loaded_model, open(filename, 'wb'))\n",
    "\n",
    "# Read and process the input data\n",
    "input_data = pd.read_csv(input_file_path, encoding='latin1').apply(lambda x: x.astype(str)).rename(columns={'problem_id.u_component': 'problem_component', 'inc_short_description': 'short_description'})\n",
    "docs_processing = input_data['short_description']\n",
    "\n",
    "# Fit the model and obtain topics and probabilities\n",
    "topics, probs = loaded_model.fit_transform(docs_processing)\n",
    "\n",
    "\n",
    "# Get topic information\n",
    "result = loaded_model.get_topic_info()\n",
    "result\n"
   ]
  },
  {
   "cell_type": "markdown",
   "metadata": {},
   "source": [
    "To test trained model "
   ]
  },
  {
   "cell_type": "code",
   "execution_count": 87,
   "metadata": {},
   "outputs": [
    {
     "name": "stderr",
     "output_type": "stream",
     "text": [
      "2024-07-23 13:07:42,714 - BERTopic - Embedding - Transforming documents to embeddings.\n",
      "Batches: 100%|██████████| 139/139 [00:33<00:00,  4.13it/s]\n",
      "2024-07-23 13:08:16,452 - BERTopic - Embedding - Completed ✓\n",
      "2024-07-23 13:08:16,452 - BERTopic - Dimensionality - Fitting the dimensionality reduction algorithm\n",
      "2024-07-23 13:08:25,333 - BERTopic - Dimensionality - Completed ✓\n",
      "2024-07-23 13:08:25,349 - BERTopic - Cluster - Start clustering the reduced embeddings\n",
      "2024-07-23 13:08:25,481 - BERTopic - Cluster - Completed ✓\n",
      "2024-07-23 13:08:25,481 - BERTopic - Representation - Extracting topics from clusters using representation models.\n",
      "2024-07-23 13:08:25,626 - BERTopic - Representation - Completed ✓\n"
     ]
    },
    {
     "name": "stdout",
     "output_type": "stream",
     "text": [
      "hi\n",
      "     Topic  Count                                    Name  \\\n",
      "0       -1    976                 -1_rtcisna_in_wms_error   \n",
      "1        0    121        0_trailer_close_dispatch_gcfclg5   \n",
      "2        1    107                  1_sap_idoc_prime_idocs   \n",
      "3        2    105               2_sap_idocs_flowing_rtcis   \n",
      "4        3     94          3_pallets_pallet_amplg5_kheops   \n",
      "..     ...    ...                                     ...   \n",
      "104    103     11         103_taicang_batch_tclx3_rtcisgc   \n",
      "105    104     11      104_gyolg5_gyongyos_agains_working   \n",
      "106    105     11              105_blois_fert_bllx5_bllx6   \n",
      "107    106     10  106_slowness_cdlx5_performance_cabuyao   \n",
      "108    107     10      107_password_change_swarm_changing   \n",
      "\n",
      "                                        Representation  \\\n",
      "0    [rtcisna, in, wms, error, not, rtciseu, to, rt...   \n",
      "1    [trailer, close, dispatch, gcfclg5, trailers, ...   \n",
      "2    [sap, idoc, prime, idocs, flowing, from, not, ...   \n",
      "3    [sap, idocs, flowing, rtcis, idoc, from, rtcis...   \n",
      "4    [pallets, pallet, amplg5, kheops, load, shlg5,...   \n",
      "..                                                 ...   \n",
      "104  [taicang, batch, tclx3, rtcisgc, fifo, tclx2, ...   \n",
      "105  [gyolg5, gyongyos, agains, working, primeeu, w...   \n",
      "106  [blois, fert, bllx5, bllx6, uom, 4847, 0474687...   \n",
      "107  [slowness, cdlx5, performance, cabuyao, primea...   \n",
      "108  [password, change, swarm, changing, user, merl...   \n",
      "\n",
      "                                   Representative_Docs  \n",
      "0    [[WMS] [PrIME-LA] [MDCLX8] [San Martin Obispo]...  \n",
      "1    [[WMS] [PrIME-EU] [AMPLG5] [Kheops] Unable to ...  \n",
      "2    [[WMS] [PrIME-LA] [MDCLX8] [San Martin Obispo]...  \n",
      "3    [[SWARM WMS] [RTCIS-GC] [HPLX3] [Huangpu] IDOC...  \n",
      "4    [[WMS] [PrIME-EU] [AMPLG5] [Kheops] Pallet app...  \n",
      "..                                                 ...  \n",
      "104  [[RTCIS] [GC] [TCLX3] [Taicang]  urgency help ...  \n",
      "105  [[WMS] [PrIME-EU] [GYOLG5] [Gyongyos] Receivin...  \n",
      "106  [[WMS] [PrIME-EU] [BLLX5] [Blois] Incorrect UO...  \n",
      "107  [[WMS] [PrIME-AMA-E] [CDLX5] [Cabuyao] : Slown...  \n",
      "108  [[SWARM] [WMS] [RTCIS-AMA-E] [SGLX1] [Singapor...  \n",
      "\n",
      "[109 rows x 5 columns]\n"
     ]
    }
   ],
   "source": [
    "import pickle\n",
    "\n",
    "# Save model in pickle file\n",
    "\n",
    "filename = open(\"new_trained_model6.pkl\", 'wb')\n",
    "pickle.dump(topic_model, filename)\n",
    "filename.close()\n",
    "\n",
    "\n",
    "input_file_path = 'incident_sla-051524-1850.csv'\n",
    "\n",
    "#incident_sla-051524-1850\n",
    "#incident_sla-2324-onwards_715\n",
    "#incident_230630_240111\n",
    "\n",
    "model_file = open('new_trained_model6.pkl', 'rb')\n",
    "\n",
    "loaded_model = pickle.load(model_file)\n",
    "model_file.close()\n",
    "\n",
    "\n",
    "\n",
    "input_data = pd.read_csv(input_file_path, encoding='latin1').apply(lambda x: x.astype(str)).rename(columns={'problem_id.u_component': 'problem_component', 'inc_short_description': 'short_description'})\n",
    "\n",
    "\n",
    "    # Fit the model and obtain topics and probabilities\n",
    "docs_processing = input_data['short_description']\n",
    "topics, probs = loaded_model.fit_transform(docs_processing)\n",
    "\n",
    "\n",
    "    # Get topic information\n",
    "result = loaded_model.get_topic_info()\n",
    "\n",
    "print(result)\n"
   ]
  }
 ],
 "metadata": {
  "kernelspec": {
   "display_name": "Python 3",
   "language": "python",
   "name": "python3"
  },
  "language_info": {
   "codemirror_mode": {
    "name": "ipython",
    "version": 3
   },
   "file_extension": ".py",
   "mimetype": "text/x-python",
   "name": "python",
   "nbconvert_exporter": "python",
   "pygments_lexer": "ipython3",
   "version": "3.12.4"
  },
  "orig_nbformat": 4
 },
 "nbformat": 4,
 "nbformat_minor": 2
}
